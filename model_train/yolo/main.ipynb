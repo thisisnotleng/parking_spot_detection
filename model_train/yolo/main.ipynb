{
 "cells": [
  {
   "cell_type": "code",
   "execution_count": 1,
   "id": "3ad03802",
   "metadata": {},
   "outputs": [],
   "source": [
    "import os\n",
    "os.environ[\"KMP_DUPLICATE_LIB_OK\"] = \"TRUE\""
   ]
  },
  {
   "cell_type": "code",
   "execution_count": null,
   "id": "6ba47d1e",
   "metadata": {},
   "outputs": [
    {
     "name": "stdout",
     "output_type": "stream",
     "text": [
      "New https://pypi.org/project/ultralytics/8.3.160 available  Update with 'pip install -U ultralytics'\n",
      "Ultralytics 8.3.155  Python-3.12.7 torch-2.7.1+cu118 CUDA:0 (NVIDIA GeForce RTX 2060, 6144MiB)\n",
      "\u001b[34m\u001b[1mengine\\trainer: \u001b[0magnostic_nms=False, amp=True, augment=False, auto_augment=randaugment, batch=4, bgr=0.0, box=7.5, cache=False, cfg=None, classes=None, close_mosaic=10, cls=0.5, conf=None, copy_paste=0.0, copy_paste_mode=flip, cos_lr=False, cutmix=0.0, data=data.yaml, degrees=0.0, deterministic=True, device=None, dfl=1.5, dnn=False, dropout=0.0, dynamic=False, embed=None, epochs=35, erasing=0.4, exist_ok=False, fliplr=0.5, flipud=0.0, format=torchscript, fraction=1.0, freeze=None, half=False, hsv_h=0.015, hsv_s=0.7, hsv_v=0.4, imgsz=640, int8=False, iou=0.7, keras=False, kobj=1.0, line_width=None, lr0=0.01, lrf=0.01, mask_ratio=4, max_det=300, mixup=0.0, mode=train, model=yolov8x.pt, momentum=0.937, mosaic=1.0, multi_scale=False, name=train15, nbs=64, nms=False, opset=None, optimize=False, optimizer=auto, overlap_mask=True, patience=100, perspective=0.0, plots=True, pose=12.0, pretrained=True, profile=False, project=None, rect=False, resume=False, retina_masks=False, save=True, save_conf=False, save_crop=False, save_dir=runs\\detect\\train15, save_frames=False, save_json=False, save_period=-1, save_txt=False, scale=0.5, seed=0, shear=0.0, show=False, show_boxes=True, show_conf=True, show_labels=True, simplify=True, single_cls=False, source=None, split=val, stream_buffer=False, task=detect, time=None, tracker=botsort.yaml, translate=0.1, val=True, verbose=True, vid_stride=1, visualize=False, warmup_bias_lr=0.1, warmup_epochs=3.0, warmup_momentum=0.8, weight_decay=0.0005, workers=8, workspace=None\n",
      "Overriding model.yaml nc=80 with nc=1\n",
      "\n",
      "                   from  n    params  module                                       arguments                     \n",
      "  0                  -1  1      2320  ultralytics.nn.modules.conv.Conv             [3, 80, 3, 2]                 \n",
      "  1                  -1  1    115520  ultralytics.nn.modules.conv.Conv             [80, 160, 3, 2]               \n",
      "  2                  -1  3    436800  ultralytics.nn.modules.block.C2f             [160, 160, 3, True]           \n",
      "  3                  -1  1    461440  ultralytics.nn.modules.conv.Conv             [160, 320, 3, 2]              \n",
      "  4                  -1  6   3281920  ultralytics.nn.modules.block.C2f             [320, 320, 6, True]           \n",
      "  5                  -1  1   1844480  ultralytics.nn.modules.conv.Conv             [320, 640, 3, 2]              \n",
      "  6                  -1  6  13117440  ultralytics.nn.modules.block.C2f             [640, 640, 6, True]           \n",
      "  7                  -1  1   3687680  ultralytics.nn.modules.conv.Conv             [640, 640, 3, 2]              \n",
      "  8                  -1  3   6969600  ultralytics.nn.modules.block.C2f             [640, 640, 3, True]           \n",
      "  9                  -1  1   1025920  ultralytics.nn.modules.block.SPPF            [640, 640, 5]                 \n",
      " 10                  -1  1         0  torch.nn.modules.upsampling.Upsample         [None, 2, 'nearest']          \n",
      " 11             [-1, 6]  1         0  ultralytics.nn.modules.conv.Concat           [1]                           \n",
      " 12                  -1  3   7379200  ultralytics.nn.modules.block.C2f             [1280, 640, 3]                \n",
      " 13                  -1  1         0  torch.nn.modules.upsampling.Upsample         [None, 2, 'nearest']          \n",
      " 14             [-1, 4]  1         0  ultralytics.nn.modules.conv.Concat           [1]                           \n",
      " 15                  -1  3   1948800  ultralytics.nn.modules.block.C2f             [960, 320, 3]                 \n",
      " 16                  -1  1    922240  ultralytics.nn.modules.conv.Conv             [320, 320, 3, 2]              \n",
      " 17            [-1, 12]  1         0  ultralytics.nn.modules.conv.Concat           [1]                           \n",
      " 18                  -1  3   7174400  ultralytics.nn.modules.block.C2f             [960, 640, 3]                 \n",
      " 19                  -1  1   3687680  ultralytics.nn.modules.conv.Conv             [640, 640, 3, 2]              \n",
      " 20             [-1, 9]  1         0  ultralytics.nn.modules.conv.Concat           [1]                           \n",
      " 21                  -1  3   7379200  ultralytics.nn.modules.block.C2f             [1280, 640, 3]                \n",
      " 22        [15, 18, 21]  1   8718931  ultralytics.nn.modules.head.Detect           [1, [320, 640, 640]]          \n",
      "Model summary: 209 layers, 68,153,571 parameters, 68,153,555 gradients, 258.1 GFLOPs\n",
      "\n",
      "Transferred 589/595 items from pretrained weights\n",
      "Freezing layer 'model.22.dfl.conv.weight'\n",
      "\u001b[34m\u001b[1mAMP: \u001b[0mrunning Automatic Mixed Precision (AMP) checks...\n",
      "\u001b[34m\u001b[1mAMP: \u001b[0mchecks passed \n",
      "\u001b[34m\u001b[1mtrain: \u001b[0mFast image access  (ping: 0.10.0 ms, read: 742.0442.0 MB/s, size: 175.9 KB)\n"
     ]
    },
    {
     "name": "stderr",
     "output_type": "stream",
     "text": [
      "\u001b[34m\u001b[1mtrain: \u001b[0mScanning C:\\Users\\NSLENG\\Desktop\\AUPP\\Summer 2025\\Computer Science B\\Final Project\\YOLO Testing Package\\parking_spot_dataset\\labels\\train.cache... 66 images, 1 backgrounds, 17 corrupt: 100%|██████████| 67/67 [00:00<?, ?it/s]"
     ]
    },
    {
     "name": "stdout",
     "output_type": "stream",
     "text": [
      "\u001b[34m\u001b[1mtrain: \u001b[0mC:\\Users\\NSLENG\\Desktop\\AUPP\\Summer 2025\\Computer Science B\\Final Project\\YOLO Testing Package\\parking_spot_dataset\\images\\train\\1000_F_119623559_LEPJv1dM0cILn8Czy6cDuG61ab0bswJ4.jpg: ignoring corrupt image/label: Label class 15 exceeds dataset class count 1. Possible class labels are 0-0\n",
      "\u001b[34m\u001b[1mtrain: \u001b[0mC:\\Users\\NSLENG\\Desktop\\AUPP\\Summer 2025\\Computer Science B\\Final Project\\YOLO Testing Package\\parking_spot_dataset\\images\\train\\110843998-car-parking-lot-viewed-from-above-aerial-view-top-view.jpg: ignoring corrupt image/label: Label class 15 exceeds dataset class count 1. Possible class labels are 0-0\n",
      "\u001b[34m\u001b[1mtrain: \u001b[0mC:\\Users\\NSLENG\\Desktop\\AUPP\\Summer 2025\\Computer Science B\\Final Project\\YOLO Testing Package\\parking_spot_dataset\\images\\train\\149357684-top-down-aerial-view-of-many-cars-on-a-parking-lot-of-supermarket-or-on-sale-car-dealer-market - Copy.jpg: ignoring corrupt image/label: Label class 15 exceeds dataset class count 1. Possible class labels are 0-0\n",
      "\u001b[34m\u001b[1mtrain: \u001b[0mC:\\Users\\NSLENG\\Desktop\\AUPP\\Summer 2025\\Computer Science B\\Final Project\\YOLO Testing Package\\parking_spot_dataset\\images\\train\\230623-edited-lotAboveDrone-arrowFillReplace-kqumpstza2v83tvd20cj.png: ignoring corrupt image/label: Label class 15 exceeds dataset class count 1. Possible class labels are 0-0\n",
      "\u001b[34m\u001b[1mtrain: \u001b[0mC:\\Users\\NSLENG\\Desktop\\AUPP\\Summer 2025\\Computer Science B\\Final Project\\YOLO Testing Package\\parking_spot_dataset\\images\\train\\33.jpg: ignoring corrupt image/label: Label class 1 exceeds dataset class count 1. Possible class labels are 0-0\n",
      "\u001b[34m\u001b[1mtrain: \u001b[0mC:\\Users\\NSLENG\\Desktop\\AUPP\\Summer 2025\\Computer Science B\\Final Project\\YOLO Testing Package\\parking_spot_dataset\\images\\train\\MidAtlantic-Parking-Lot-Maintenance-new-e1516720963617.1803161417550.jpg: ignoring corrupt image/label: Label class 15 exceeds dataset class count 1. Possible class labels are 0-0\n",
      "\u001b[34m\u001b[1mtrain: \u001b[0mC:\\Users\\NSLENG\\Desktop\\AUPP\\Summer 2025\\Computer Science B\\Final Project\\YOLO Testing Package\\parking_spot_dataset\\images\\train\\Ohio_BMV_scam_1749591082416_1749591082600.jpg: ignoring corrupt image/label: Label class 15 exceeds dataset class count 1. Possible class labels are 0-0\n",
      "\u001b[34m\u001b[1mtrain: \u001b[0mC:\\Users\\NSLENG\\Desktop\\AUPP\\Summer 2025\\Computer Science B\\Final Project\\YOLO Testing Package\\parking_spot_dataset\\images\\train\\aerial-top-down-view-of-vehicles-in-parking-lot-from-above-kaunas-lithuania-AAEF12891.jpg: ignoring corrupt image/label: Label class 15 exceeds dataset class count 1. Possible class labels are 0-0\n",
      "\u001b[34m\u001b[1mtrain: \u001b[0mC:\\Users\\NSLENG\\Desktop\\AUPP\\Summer 2025\\Computer Science B\\Final Project\\YOLO Testing Package\\parking_spot_dataset\\images\\train\\aerial-view-of-parking-lot-abstract-E77E31.jpg: ignoring corrupt image/label: Label class 15 exceeds dataset class count 1. Possible class labels are 0-0\n",
      "\u001b[34m\u001b[1mtrain: \u001b[0mC:\\Users\\NSLENG\\Desktop\\AUPP\\Summer 2025\\Computer Science B\\Final Project\\YOLO Testing Package\\parking_spot_dataset\\images\\train\\depositphotos_135411080-stock-photo-empty-parking-lots-aerial-view.jpg: ignoring corrupt image/label: Label class 15 exceeds dataset class count 1. Possible class labels are 0-0\n",
      "\u001b[34m\u001b[1mtrain: \u001b[0mC:\\Users\\NSLENG\\Desktop\\AUPP\\Summer 2025\\Computer Science B\\Final Project\\YOLO Testing Package\\parking_spot_dataset\\images\\train\\istockphoto-1410564458-612x612.jpg: ignoring corrupt image/label: Label class 15 exceeds dataset class count 1. Possible class labels are 0-0\n",
      "\u001b[34m\u001b[1mtrain: \u001b[0mC:\\Users\\NSLENG\\Desktop\\AUPP\\Summer 2025\\Computer Science B\\Final Project\\YOLO Testing Package\\parking_spot_dataset\\images\\train\\istockphoto-1471760808-2048x2048.jpg: ignoring corrupt image/label: Label class 15 exceeds dataset class count 1. Possible class labels are 0-0\n",
      "\u001b[34m\u001b[1mtrain: \u001b[0mC:\\Users\\NSLENG\\Desktop\\AUPP\\Summer 2025\\Computer Science B\\Final Project\\YOLO Testing Package\\parking_spot_dataset\\images\\train\\istockphoto-636444638-612x612.jpg: ignoring corrupt image/label: Label class 15 exceeds dataset class count 1. Possible class labels are 0-0\n",
      "\u001b[34m\u001b[1mtrain: \u001b[0mC:\\Users\\NSLENG\\Desktop\\AUPP\\Summer 2025\\Computer Science B\\Final Project\\YOLO Testing Package\\parking_spot_dataset\\images\\train\\istockphoto-658789952-612x612.jpg: ignoring corrupt image/label: Label class 15 exceeds dataset class count 1. Possible class labels are 0-0\n",
      "\u001b[34m\u001b[1mtrain: \u001b[0mC:\\Users\\NSLENG\\Desktop\\AUPP\\Summer 2025\\Computer Science B\\Final Project\\YOLO Testing Package\\parking_spot_dataset\\images\\train\\istockphoto-856857870-612x612.jpg: ignoring corrupt image/label: Label class 15 exceeds dataset class count 1. Possible class labels are 0-0\n",
      "\u001b[34m\u001b[1mtrain: \u001b[0mC:\\Users\\NSLENG\\Desktop\\AUPP\\Summer 2025\\Computer Science B\\Final Project\\YOLO Testing Package\\parking_spot_dataset\\images\\train\\parking-lot.jpg: ignoring corrupt image/label: Label class 15 exceeds dataset class count 1. Possible class labels are 0-0\n",
      "\u001b[34m\u001b[1mtrain: \u001b[0mC:\\Users\\NSLENG\\Desktop\\AUPP\\Summer 2025\\Computer Science B\\Final Project\\YOLO Testing Package\\parking_spot_dataset\\images\\train\\rotate_parking_spot.jpg: ignoring corrupt image/label: Label class 15 exceeds dataset class count 1. Possible class labels are 0-0\n"
     ]
    },
    {
     "name": "stderr",
     "output_type": "stream",
     "text": [
      "\n"
     ]
    },
    {
     "name": "stdout",
     "output_type": "stream",
     "text": [
      "\u001b[34m\u001b[1mval: \u001b[0mFast image access  (ping: 0.10.0 ms, read: 753.7181.5 MB/s, size: 344.7 KB)\n"
     ]
    },
    {
     "name": "stderr",
     "output_type": "stream",
     "text": [
      "\u001b[34m\u001b[1mval: \u001b[0mScanning C:\\Users\\NSLENG\\Desktop\\AUPP\\Summer 2025\\Computer Science B\\Final Project\\YOLO Testing Package\\parking_spot_dataset\\labels\\val.cache... 8 images, 0 backgrounds, 5 corrupt: 100%|██████████| 8/8 [00:00<?, ?it/s]"
     ]
    },
    {
     "name": "stdout",
     "output_type": "stream",
     "text": [
      "\u001b[34m\u001b[1mval: \u001b[0mC:\\Users\\NSLENG\\Desktop\\AUPP\\Summer 2025\\Computer Science B\\Final Project\\YOLO Testing Package\\parking_spot_dataset\\images\\val\\parking-space-dimensions-scaled.jpeg: ignoring corrupt image/label: Label class 15 exceeds dataset class count 1. Possible class labels are 0-0\n",
      "\u001b[34m\u001b[1mval: \u001b[0mC:\\Users\\NSLENG\\Desktop\\AUPP\\Summer 2025\\Computer Science B\\Final Project\\YOLO Testing Package\\parking_spot_dataset\\images\\val\\premium_photo-1661925156485-42bbe60d85c6.jpg: ignoring corrupt image/label: Label class 15 exceeds dataset class count 1. Possible class labels are 0-0\n",
      "\u001b[34m\u001b[1mval: \u001b[0mC:\\Users\\NSLENG\\Desktop\\AUPP\\Summer 2025\\Computer Science B\\Final Project\\YOLO Testing Package\\parking_spot_dataset\\images\\val\\stock-photo-aerial-top-down-flying-above-bad-driver-incapable-to-park-a-car-on-parking-space-in-big-crowded-2479237335.jpg: ignoring corrupt image/label: Label class 15 exceeds dataset class count 1. Possible class labels are 0-0\n",
      "\u001b[34m\u001b[1mval: \u001b[0mC:\\Users\\NSLENG\\Desktop\\AUPP\\Summer 2025\\Computer Science B\\Final Project\\YOLO Testing Package\\parking_spot_dataset\\images\\val\\top-down-aerial-view-of-many-cars-on-a-parking-lot-of-supermarket-or-on-sale-car-dealer-market-2BX2NJK.jpg: ignoring corrupt image/label: Label class 15 exceeds dataset class count 1. Possible class labels are 0-0\n",
      "\u001b[34m\u001b[1mval: \u001b[0mC:\\Users\\NSLENG\\Desktop\\AUPP\\Summer 2025\\Computer Science B\\Final Project\\YOLO Testing Package\\parking_spot_dataset\\images\\val\\what-you-need-to-know-about-parking-lot-accidents-1.jpg: ignoring corrupt image/label: Label class 15 exceeds dataset class count 1. Possible class labels are 0-0\n"
     ]
    },
    {
     "name": "stderr",
     "output_type": "stream",
     "text": [
      "\n"
     ]
    },
    {
     "name": "stdout",
     "output_type": "stream",
     "text": [
      "Plotting labels to runs\\detect\\train15\\labels.jpg... \n",
      "\u001b[34m\u001b[1moptimizer:\u001b[0m 'optimizer=auto' found, ignoring 'lr0=0.01' and 'momentum=0.937' and determining best 'optimizer', 'lr0' and 'momentum' automatically... \n",
      "\u001b[34m\u001b[1moptimizer:\u001b[0m AdamW(lr=0.002, momentum=0.9) with parameter groups 97 weight(decay=0.0), 104 weight(decay=0.0005), 103 bias(decay=0.0)\n",
      "Image sizes 640 train, 640 val\n",
      "Using 8 dataloader workers\n",
      "Logging results to \u001b[1mruns\\detect\\train15\u001b[0m\n",
      "Starting training for 35 epochs...\n",
      "\n",
      "      Epoch    GPU_mem   box_loss   cls_loss   dfl_loss  Instances       Size\n"
     ]
    },
    {
     "name": "stderr",
     "output_type": "stream",
     "text": [
      "       1/35      4.14G      1.952      2.505      1.605         98        640: 100%|██████████| 13/13 [00:06<00:00,  2.05it/s]\n",
      "                 Class     Images  Instances      Box(P          R      mAP50  mAP50-95): 100%|██████████| 1/1 [00:00<00:00,  7.31it/s]"
     ]
    },
    {
     "name": "stdout",
     "output_type": "stream",
     "text": [
      "                   all          3        160      0.472      0.731        0.5      0.242\n"
     ]
    },
    {
     "name": "stderr",
     "output_type": "stream",
     "text": [
      "\n"
     ]
    },
    {
     "name": "stdout",
     "output_type": "stream",
     "text": [
      "\n",
      "      Epoch    GPU_mem   box_loss   cls_loss   dfl_loss  Instances       Size\n"
     ]
    },
    {
     "name": "stderr",
     "output_type": "stream",
     "text": [
      "       2/35      4.66G      1.209      1.414      1.159        173        640: 100%|██████████| 13/13 [00:05<00:00,  2.19it/s]\n",
      "                 Class     Images  Instances      Box(P          R      mAP50  mAP50-95): 100%|██████████| 1/1 [00:00<00:00,  8.12it/s]"
     ]
    },
    {
     "name": "stdout",
     "output_type": "stream",
     "text": [
      "                   all          3        160    0.00111    0.00625    0.00056    5.6e-05\n"
     ]
    },
    {
     "name": "stderr",
     "output_type": "stream",
     "text": [
      "\n"
     ]
    },
    {
     "name": "stdout",
     "output_type": "stream",
     "text": [
      "\n",
      "      Epoch    GPU_mem   box_loss   cls_loss   dfl_loss  Instances       Size\n"
     ]
    },
    {
     "name": "stderr",
     "output_type": "stream",
     "text": [
      "       3/35      4.88G       1.22      1.368      1.112        371        640: 100%|██████████| 13/13 [01:01<00:00,  4.73s/it]\n",
      "                 Class     Images  Instances      Box(P          R      mAP50  mAP50-95): 100%|██████████| 1/1 [00:00<00:00,  6.95it/s]"
     ]
    },
    {
     "name": "stdout",
     "output_type": "stream",
     "text": [
      "                   all          3        160      0.551      0.863      0.657      0.419\n"
     ]
    },
    {
     "name": "stderr",
     "output_type": "stream",
     "text": [
      "\n"
     ]
    },
    {
     "name": "stdout",
     "output_type": "stream",
     "text": [
      "\n",
      "      Epoch    GPU_mem   box_loss   cls_loss   dfl_loss  Instances       Size\n"
     ]
    },
    {
     "name": "stderr",
     "output_type": "stream",
     "text": [
      "       4/35      4.94G      1.086      1.113      1.094        296        640: 100%|██████████| 13/13 [00:06<00:00,  2.08it/s]\n",
      "                 Class     Images  Instances      Box(P          R      mAP50  mAP50-95): 100%|██████████| 1/1 [00:00<00:00,  6.83it/s]"
     ]
    },
    {
     "name": "stdout",
     "output_type": "stream",
     "text": [
      "                   all          3        160     0.0389      0.219     0.0238     0.0152\n"
     ]
    },
    {
     "name": "stderr",
     "output_type": "stream",
     "text": [
      "\n"
     ]
    },
    {
     "name": "stdout",
     "output_type": "stream",
     "text": [
      "\n",
      "      Epoch    GPU_mem   box_loss   cls_loss   dfl_loss  Instances       Size\n"
     ]
    },
    {
     "name": "stderr",
     "output_type": "stream",
     "text": [
      "       5/35      4.65G      1.129      1.196      1.114        220        640: 100%|██████████| 13/13 [00:05<00:00,  2.21it/s]\n",
      "                 Class     Images  Instances      Box(P          R      mAP50  mAP50-95): 100%|██████████| 1/1 [00:00<00:00,  7.87it/s]"
     ]
    },
    {
     "name": "stdout",
     "output_type": "stream",
     "text": [
      "                   all          3        160      0.208      0.869      0.241      0.162\n"
     ]
    },
    {
     "name": "stderr",
     "output_type": "stream",
     "text": [
      "\n"
     ]
    },
    {
     "name": "stdout",
     "output_type": "stream",
     "text": [
      "\n",
      "      Epoch    GPU_mem   box_loss   cls_loss   dfl_loss  Instances       Size\n"
     ]
    },
    {
     "name": "stderr",
     "output_type": "stream",
     "text": [
      "       6/35       4.8G      1.167      1.215      1.108        226        640: 100%|██████████| 13/13 [00:07<00:00,  1.84it/s]\n",
      "                 Class     Images  Instances      Box(P          R      mAP50  mAP50-95): 100%|██████████| 1/1 [00:00<00:00,  6.39it/s]"
     ]
    },
    {
     "name": "stdout",
     "output_type": "stream",
     "text": [
      "                   all          3        160      0.551      0.237      0.257      0.124\n"
     ]
    },
    {
     "name": "stderr",
     "output_type": "stream",
     "text": [
      "\n"
     ]
    },
    {
     "name": "stdout",
     "output_type": "stream",
     "text": [
      "\n",
      "      Epoch    GPU_mem   box_loss   cls_loss   dfl_loss  Instances       Size\n"
     ]
    },
    {
     "name": "stderr",
     "output_type": "stream",
     "text": [
      "       7/35      4.83G      1.365      1.105      1.128        161        640: 100%|██████████| 13/13 [00:05<00:00,  2.22it/s]\n",
      "                 Class     Images  Instances      Box(P          R      mAP50  mAP50-95): 100%|██████████| 1/1 [00:00<00:00,  7.37it/s]"
     ]
    },
    {
     "name": "stdout",
     "output_type": "stream",
     "text": [
      "                   all          3        160      0.754      0.169      0.186     0.0783\n"
     ]
    },
    {
     "name": "stderr",
     "output_type": "stream",
     "text": [
      "\n"
     ]
    },
    {
     "name": "stdout",
     "output_type": "stream",
     "text": [
      "\n",
      "      Epoch    GPU_mem   box_loss   cls_loss   dfl_loss  Instances       Size\n"
     ]
    },
    {
     "name": "stderr",
     "output_type": "stream",
     "text": [
      "       8/35      4.79G       1.74      1.421      1.331        232        640: 100%|██████████| 13/13 [00:06<00:00,  1.97it/s]\n",
      "                 Class     Images  Instances      Box(P          R      mAP50  mAP50-95): 100%|██████████| 1/1 [00:00<00:00,  5.99it/s]"
     ]
    },
    {
     "name": "stdout",
     "output_type": "stream",
     "text": [
      "                   all          3        160    0.00549    0.00625    0.00244   0.000244\n"
     ]
    },
    {
     "name": "stderr",
     "output_type": "stream",
     "text": [
      "\n"
     ]
    },
    {
     "name": "stdout",
     "output_type": "stream",
     "text": [
      "\n",
      "      Epoch    GPU_mem   box_loss   cls_loss   dfl_loss  Instances       Size\n"
     ]
    },
    {
     "name": "stderr",
     "output_type": "stream",
     "text": [
      "       9/35      4.71G      1.397      1.113      1.192        233        640: 100%|██████████| 13/13 [00:07<00:00,  1.74it/s]\n",
      "                 Class     Images  Instances      Box(P          R      mAP50  mAP50-95): 100%|██████████| 1/1 [00:00<00:00,  6.30it/s]"
     ]
    },
    {
     "name": "stdout",
     "output_type": "stream",
     "text": [
      "                   all          3        160    0.00549    0.00625    0.00244   0.000244\n"
     ]
    },
    {
     "name": "stderr",
     "output_type": "stream",
     "text": [
      "\n"
     ]
    },
    {
     "name": "stdout",
     "output_type": "stream",
     "text": [
      "\n",
      "      Epoch    GPU_mem   box_loss   cls_loss   dfl_loss  Instances       Size\n"
     ]
    },
    {
     "name": "stderr",
     "output_type": "stream",
     "text": [
      "      10/35       4.8G      1.419      1.111       1.18        192        640: 100%|██████████| 13/13 [00:19<00:00,  1.54s/it]\n",
      "                 Class     Images  Instances      Box(P          R      mAP50  mAP50-95): 100%|██████████| 1/1 [00:00<00:00,  7.29it/s]"
     ]
    },
    {
     "name": "stdout",
     "output_type": "stream",
     "text": [
      "                   all          3        160          0          0          0          0\n"
     ]
    },
    {
     "name": "stderr",
     "output_type": "stream",
     "text": [
      "\n"
     ]
    },
    {
     "name": "stdout",
     "output_type": "stream",
     "text": [
      "\n",
      "      Epoch    GPU_mem   box_loss   cls_loss   dfl_loss  Instances       Size\n"
     ]
    },
    {
     "name": "stderr",
     "output_type": "stream",
     "text": [
      "      11/35      5.12G      1.265     0.9689      1.132        163        640: 100%|██████████| 13/13 [00:21<00:00,  1.65s/it]\n",
      "                 Class     Images  Instances      Box(P          R      mAP50  mAP50-95): 100%|██████████| 1/1 [00:00<00:00,  1.74it/s]"
     ]
    },
    {
     "name": "stdout",
     "output_type": "stream",
     "text": [
      "                   all          3        160       0.16     0.0375     0.0271       0.01\n"
     ]
    },
    {
     "name": "stderr",
     "output_type": "stream",
     "text": [
      "\n"
     ]
    },
    {
     "name": "stdout",
     "output_type": "stream",
     "text": [
      "\n",
      "      Epoch    GPU_mem   box_loss   cls_loss   dfl_loss  Instances       Size\n"
     ]
    },
    {
     "name": "stderr",
     "output_type": "stream",
     "text": [
      "      12/35      4.98G      1.145     0.8534      1.065        137        640: 100%|██████████| 13/13 [00:07<00:00,  1.70it/s]\n",
      "                 Class     Images  Instances      Box(P          R      mAP50  mAP50-95): 100%|██████████| 1/1 [00:00<00:00,  4.80it/s]"
     ]
    },
    {
     "name": "stdout",
     "output_type": "stream",
     "text": [
      "                   all          3        160      0.687      0.544      0.648       0.41\n"
     ]
    },
    {
     "name": "stderr",
     "output_type": "stream",
     "text": [
      "\n"
     ]
    },
    {
     "name": "stdout",
     "output_type": "stream",
     "text": [
      "\n",
      "      Epoch    GPU_mem   box_loss   cls_loss   dfl_loss  Instances       Size\n"
     ]
    },
    {
     "name": "stderr",
     "output_type": "stream",
     "text": [
      "      13/35      4.86G      1.125      0.906      1.089        120        640: 100%|██████████| 13/13 [00:23<00:00,  1.79s/it]\n",
      "                 Class     Images  Instances      Box(P          R      mAP50  mAP50-95): 100%|██████████| 1/1 [00:00<00:00,  3.47it/s]"
     ]
    },
    {
     "name": "stdout",
     "output_type": "stream",
     "text": [
      "                   all          3        160      0.883      0.705      0.842      0.532\n"
     ]
    },
    {
     "name": "stderr",
     "output_type": "stream",
     "text": [
      "\n"
     ]
    },
    {
     "name": "stdout",
     "output_type": "stream",
     "text": [
      "\n",
      "      Epoch    GPU_mem   box_loss   cls_loss   dfl_loss  Instances       Size\n"
     ]
    },
    {
     "name": "stderr",
     "output_type": "stream",
     "text": [
      "      14/35      4.88G      1.005     0.8317      1.078         63        640: 100%|██████████| 13/13 [00:07<00:00,  1.69it/s]\n",
      "                 Class     Images  Instances      Box(P          R      mAP50  mAP50-95): 100%|██████████| 1/1 [00:00<00:00,  5.22it/s]"
     ]
    },
    {
     "name": "stdout",
     "output_type": "stream",
     "text": [
      "                   all          3        160      0.905      0.771      0.869      0.583\n"
     ]
    },
    {
     "name": "stderr",
     "output_type": "stream",
     "text": [
      "\n"
     ]
    },
    {
     "name": "stdout",
     "output_type": "stream",
     "text": [
      "\n",
      "      Epoch    GPU_mem   box_loss   cls_loss   dfl_loss  Instances       Size\n"
     ]
    },
    {
     "name": "stderr",
     "output_type": "stream",
     "text": [
      "      15/35      5.02G      1.117     0.7617      1.008        375        640: 100%|██████████| 13/13 [01:33<00:00,  7.21s/it]\n",
      "                 Class     Images  Instances      Box(P          R      mAP50  mAP50-95): 100%|██████████| 1/1 [00:00<00:00,  3.20it/s]"
     ]
    },
    {
     "name": "stdout",
     "output_type": "stream",
     "text": [
      "                   all          3        160      0.905      0.771      0.869      0.583\n"
     ]
    },
    {
     "name": "stderr",
     "output_type": "stream",
     "text": [
      "\n"
     ]
    },
    {
     "name": "stdout",
     "output_type": "stream",
     "text": [
      "\n",
      "      Epoch    GPU_mem   box_loss   cls_loss   dfl_loss  Instances       Size\n"
     ]
    },
    {
     "name": "stderr",
     "output_type": "stream",
     "text": [
      "      16/35      5.13G     0.9361      0.806      1.047         44        640: 100%|██████████| 13/13 [00:06<00:00,  1.91it/s]\n",
      "                 Class     Images  Instances      Box(P          R      mAP50  mAP50-95): 100%|██████████| 1/1 [00:00<00:00,  5.38it/s]"
     ]
    },
    {
     "name": "stdout",
     "output_type": "stream",
     "text": [
      "                   all          3        160      0.919      0.756      0.868      0.559\n"
     ]
    },
    {
     "name": "stderr",
     "output_type": "stream",
     "text": [
      "\n"
     ]
    },
    {
     "name": "stdout",
     "output_type": "stream",
     "text": [
      "\n",
      "      Epoch    GPU_mem   box_loss   cls_loss   dfl_loss  Instances       Size\n"
     ]
    },
    {
     "name": "stderr",
     "output_type": "stream",
     "text": [
      "      17/35      4.96G     0.9654     0.8452      1.053         36        640: 100%|██████████| 13/13 [00:21<00:00,  1.67s/it]\n",
      "                 Class     Images  Instances      Box(P          R      mAP50  mAP50-95): 100%|██████████| 1/1 [00:00<00:00,  5.59it/s]"
     ]
    },
    {
     "name": "stdout",
     "output_type": "stream",
     "text": [
      "                   all          3        160      0.876      0.924      0.967      0.618\n"
     ]
    },
    {
     "name": "stderr",
     "output_type": "stream",
     "text": [
      "\n"
     ]
    },
    {
     "name": "stdout",
     "output_type": "stream",
     "text": [
      "\n",
      "      Epoch    GPU_mem   box_loss   cls_loss   dfl_loss  Instances       Size\n"
     ]
    },
    {
     "name": "stderr",
     "output_type": "stream",
     "text": [
      "      18/35      4.73G     0.9433     0.7154      0.981        181        640: 100%|██████████| 13/13 [00:26<00:00,  2.03s/it]\n",
      "                 Class     Images  Instances      Box(P          R      mAP50  mAP50-95): 100%|██████████| 1/1 [00:00<00:00,  4.81it/s]"
     ]
    },
    {
     "name": "stdout",
     "output_type": "stream",
     "text": [
      "                   all          3        160      0.881      0.881      0.949      0.616\n"
     ]
    },
    {
     "name": "stderr",
     "output_type": "stream",
     "text": [
      "\n"
     ]
    },
    {
     "name": "stdout",
     "output_type": "stream",
     "text": [
      "\n",
      "      Epoch    GPU_mem   box_loss   cls_loss   dfl_loss  Instances       Size\n"
     ]
    },
    {
     "name": "stderr",
     "output_type": "stream",
     "text": [
      "      19/35       4.9G     0.9224     0.7053     0.9824        475        640: 100%|██████████| 13/13 [00:06<00:00,  1.96it/s]\n",
      "                 Class     Images  Instances      Box(P          R      mAP50  mAP50-95): 100%|██████████| 1/1 [00:00<00:00,  5.53it/s]"
     ]
    },
    {
     "name": "stdout",
     "output_type": "stream",
     "text": [
      "                   all          3        160      0.919      0.917      0.959      0.623\n"
     ]
    },
    {
     "name": "stderr",
     "output_type": "stream",
     "text": [
      "\n"
     ]
    },
    {
     "name": "stdout",
     "output_type": "stream",
     "text": [
      "\n",
      "      Epoch    GPU_mem   box_loss   cls_loss   dfl_loss  Instances       Size\n"
     ]
    },
    {
     "name": "stderr",
     "output_type": "stream",
     "text": [
      "      20/35      4.79G     0.8021     0.6026     0.9554        308        640: 100%|██████████| 13/13 [00:07<00:00,  1.83it/s]\n",
      "                 Class     Images  Instances      Box(P          R      mAP50  mAP50-95): 100%|██████████| 1/1 [00:00<00:00,  6.24it/s]"
     ]
    },
    {
     "name": "stdout",
     "output_type": "stream",
     "text": [
      "                   all          3        160      0.919      0.917      0.959      0.623\n"
     ]
    },
    {
     "name": "stderr",
     "output_type": "stream",
     "text": [
      "\n"
     ]
    },
    {
     "name": "stdout",
     "output_type": "stream",
     "text": [
      "\n",
      "      Epoch    GPU_mem   box_loss   cls_loss   dfl_loss  Instances       Size\n"
     ]
    },
    {
     "name": "stderr",
     "output_type": "stream",
     "text": [
      "      21/35      4.92G      0.881     0.6978     0.9901        214        640: 100%|██████████| 13/13 [00:26<00:00,  2.07s/it]\n",
      "                 Class     Images  Instances      Box(P          R      mAP50  mAP50-95): 100%|██████████| 1/1 [00:00<00:00,  5.30it/s]"
     ]
    },
    {
     "name": "stdout",
     "output_type": "stream",
     "text": [
      "                   all          3        160      0.923      0.894      0.948      0.634\n"
     ]
    },
    {
     "name": "stderr",
     "output_type": "stream",
     "text": [
      "\n"
     ]
    },
    {
     "name": "stdout",
     "output_type": "stream",
     "text": [
      "\n",
      "      Epoch    GPU_mem   box_loss   cls_loss   dfl_loss  Instances       Size\n"
     ]
    },
    {
     "name": "stderr",
     "output_type": "stream",
     "text": [
      "      22/35      4.88G     0.8005     0.7077      1.024        114        640: 100%|██████████| 13/13 [00:06<00:00,  2.01it/s]\n",
      "                 Class     Images  Instances      Box(P          R      mAP50  mAP50-95): 100%|██████████| 1/1 [00:00<00:00,  5.63it/s]"
     ]
    },
    {
     "name": "stdout",
     "output_type": "stream",
     "text": [
      "                   all          3        160      0.854      0.856      0.909      0.609\n"
     ]
    },
    {
     "name": "stderr",
     "output_type": "stream",
     "text": [
      "\n"
     ]
    },
    {
     "name": "stdout",
     "output_type": "stream",
     "text": [
      "\n",
      "      Epoch    GPU_mem   box_loss   cls_loss   dfl_loss  Instances       Size\n"
     ]
    },
    {
     "name": "stderr",
     "output_type": "stream",
     "text": [
      "      23/35      4.83G     0.8069     0.6462     0.9586         95        640: 100%|██████████| 13/13 [00:13<00:00,  1.07s/it]\n",
      "                 Class     Images  Instances      Box(P          R      mAP50  mAP50-95): 100%|██████████| 1/1 [00:00<00:00,  3.04it/s]"
     ]
    },
    {
     "name": "stdout",
     "output_type": "stream",
     "text": [
      "                   all          3        160      0.817      0.895      0.916      0.635\n"
     ]
    },
    {
     "name": "stderr",
     "output_type": "stream",
     "text": [
      "\n"
     ]
    },
    {
     "name": "stdout",
     "output_type": "stream",
     "text": [
      "\n",
      "      Epoch    GPU_mem   box_loss   cls_loss   dfl_loss  Instances       Size\n"
     ]
    },
    {
     "name": "stderr",
     "output_type": "stream",
     "text": [
      "      24/35      5.07G     0.7945     0.6389     0.9529        319        640: 100%|██████████| 13/13 [00:24<00:00,  1.89s/it]\n",
      "                 Class     Images  Instances      Box(P          R      mAP50  mAP50-95): 100%|██████████| 1/1 [00:00<00:00,  2.25it/s]"
     ]
    },
    {
     "name": "stdout",
     "output_type": "stream",
     "text": [
      "                   all          3        160      0.899      0.844      0.917      0.644\n"
     ]
    },
    {
     "name": "stderr",
     "output_type": "stream",
     "text": [
      "\n"
     ]
    },
    {
     "name": "stdout",
     "output_type": "stream",
     "text": [
      "\n",
      "      Epoch    GPU_mem   box_loss   cls_loss   dfl_loss  Instances       Size\n"
     ]
    },
    {
     "name": "stderr",
     "output_type": "stream",
     "text": [
      "      25/35      4.65G     0.7969     0.6083     0.9588         49        640: 100%|██████████| 13/13 [00:23<00:00,  1.82s/it]\n",
      "                 Class     Images  Instances      Box(P          R      mAP50  mAP50-95): 100%|██████████| 1/1 [00:00<00:00,  1.19it/s]"
     ]
    },
    {
     "name": "stdout",
     "output_type": "stream",
     "text": [
      "                   all          3        160      0.899      0.844      0.917      0.644\n"
     ]
    },
    {
     "name": "stderr",
     "output_type": "stream",
     "text": [
      "\n"
     ]
    },
    {
     "name": "stdout",
     "output_type": "stream",
     "text": [
      "Closing dataloader mosaic\n",
      "\n",
      "      Epoch    GPU_mem   box_loss   cls_loss   dfl_loss  Instances       Size\n"
     ]
    },
    {
     "name": "stderr",
     "output_type": "stream",
     "text": [
      "      26/35      4.97G     0.7632      0.606     0.9453         73        640: 100%|██████████| 13/13 [00:06<00:00,  2.06it/s]\n",
      "                 Class     Images  Instances      Box(P          R      mAP50  mAP50-95): 100%|██████████| 1/1 [00:00<00:00,  6.00it/s]"
     ]
    },
    {
     "name": "stdout",
     "output_type": "stream",
     "text": [
      "                   all          3        160      0.919      0.869      0.951      0.663\n"
     ]
    },
    {
     "name": "stderr",
     "output_type": "stream",
     "text": [
      "\n"
     ]
    },
    {
     "name": "stdout",
     "output_type": "stream",
     "text": [
      "\n",
      "      Epoch    GPU_mem   box_loss   cls_loss   dfl_loss  Instances       Size\n"
     ]
    },
    {
     "name": "stderr",
     "output_type": "stream",
     "text": [
      "      27/35      4.85G      0.737     0.5781     0.9414         31        640: 100%|██████████| 13/13 [00:25<00:00,  1.93s/it]\n",
      "                 Class     Images  Instances      Box(P          R      mAP50  mAP50-95): 100%|██████████| 1/1 [00:00<00:00,  6.13it/s]"
     ]
    },
    {
     "name": "stdout",
     "output_type": "stream",
     "text": [
      "                   all          3        160      0.901      0.912      0.967      0.676\n"
     ]
    },
    {
     "name": "stderr",
     "output_type": "stream",
     "text": [
      "\n"
     ]
    },
    {
     "name": "stdout",
     "output_type": "stream",
     "text": [
      "\n",
      "      Epoch    GPU_mem   box_loss   cls_loss   dfl_loss  Instances       Size\n"
     ]
    },
    {
     "name": "stderr",
     "output_type": "stream",
     "text": [
      "      28/35      4.98G     0.7257     0.5785     0.9502         68        640: 100%|██████████| 13/13 [00:30<00:00,  2.33s/it]\n",
      "                 Class     Images  Instances      Box(P          R      mAP50  mAP50-95): 100%|██████████| 1/1 [00:00<00:00,  2.17it/s]"
     ]
    },
    {
     "name": "stdout",
     "output_type": "stream",
     "text": [
      "                   all          3        160      0.914      0.912      0.969      0.687\n"
     ]
    },
    {
     "name": "stderr",
     "output_type": "stream",
     "text": [
      "\n"
     ]
    },
    {
     "name": "stdout",
     "output_type": "stream",
     "text": [
      "\n",
      "      Epoch    GPU_mem   box_loss   cls_loss   dfl_loss  Instances       Size\n"
     ]
    },
    {
     "name": "stderr",
     "output_type": "stream",
     "text": [
      "      29/35      4.97G     0.7235     0.5359     0.9151         72        640: 100%|██████████| 13/13 [00:06<00:00,  1.96it/s]\n",
      "                 Class     Images  Instances      Box(P          R      mAP50  mAP50-95): 100%|██████████| 1/1 [00:00<00:00,  5.22it/s]"
     ]
    },
    {
     "name": "stdout",
     "output_type": "stream",
     "text": [
      "                   all          3        160      0.909       0.95      0.977      0.688\n"
     ]
    },
    {
     "name": "stderr",
     "output_type": "stream",
     "text": [
      "\n"
     ]
    },
    {
     "name": "stdout",
     "output_type": "stream",
     "text": [
      "\n",
      "      Epoch    GPU_mem   box_loss   cls_loss   dfl_loss  Instances       Size\n"
     ]
    },
    {
     "name": "stderr",
     "output_type": "stream",
     "text": [
      "      30/35      4.68G     0.7397     0.5845     0.9529         28        640: 100%|██████████| 13/13 [00:06<00:00,  2.02it/s]\n",
      "                 Class     Images  Instances      Box(P          R      mAP50  mAP50-95): 100%|██████████| 1/1 [00:00<00:00,  6.26it/s]"
     ]
    },
    {
     "name": "stdout",
     "output_type": "stream",
     "text": [
      "                   all          3        160      0.887      0.944      0.966      0.683\n"
     ]
    },
    {
     "name": "stderr",
     "output_type": "stream",
     "text": [
      "\n"
     ]
    },
    {
     "name": "stdout",
     "output_type": "stream",
     "text": [
      "\n",
      "      Epoch    GPU_mem   box_loss   cls_loss   dfl_loss  Instances       Size\n"
     ]
    },
    {
     "name": "stderr",
     "output_type": "stream",
     "text": [
      "      31/35      4.64G     0.7215     0.5506     0.9312         31        640: 100%|██████████| 13/13 [00:06<00:00,  2.04it/s]\n",
      "                 Class     Images  Instances      Box(P          R      mAP50  mAP50-95): 100%|██████████| 1/1 [00:00<00:00,  6.30it/s]"
     ]
    },
    {
     "name": "stdout",
     "output_type": "stream",
     "text": [
      "                   all          3        160      0.887      0.944      0.966      0.683\n"
     ]
    },
    {
     "name": "stderr",
     "output_type": "stream",
     "text": [
      "\n"
     ]
    },
    {
     "name": "stdout",
     "output_type": "stream",
     "text": [
      "\n",
      "      Epoch    GPU_mem   box_loss   cls_loss   dfl_loss  Instances       Size\n"
     ]
    },
    {
     "name": "stderr",
     "output_type": "stream",
     "text": [
      "      32/35      4.85G     0.7135     0.5604     0.9232         48        640: 100%|██████████| 13/13 [00:16<00:00,  1.25s/it]\n",
      "                 Class     Images  Instances      Box(P          R      mAP50  mAP50-95): 100%|██████████| 1/1 [00:00<00:00,  5.65it/s]"
     ]
    },
    {
     "name": "stdout",
     "output_type": "stream",
     "text": [
      "                   all          3        160      0.918      0.912      0.957       0.68\n"
     ]
    },
    {
     "name": "stderr",
     "output_type": "stream",
     "text": [
      "\n"
     ]
    },
    {
     "name": "stdout",
     "output_type": "stream",
     "text": [
      "\n",
      "      Epoch    GPU_mem   box_loss   cls_loss   dfl_loss  Instances       Size\n"
     ]
    },
    {
     "name": "stderr",
     "output_type": "stream",
     "text": [
      "      33/35      4.68G     0.6836     0.5071     0.9283        107        640: 100%|██████████| 13/13 [00:06<00:00,  2.01it/s]\n",
      "                 Class     Images  Instances      Box(P          R      mAP50  mAP50-95): 100%|██████████| 1/1 [00:00<00:00,  6.25it/s]"
     ]
    },
    {
     "name": "stdout",
     "output_type": "stream",
     "text": [
      "                   all          3        160      0.919      0.919      0.956      0.679\n"
     ]
    },
    {
     "name": "stderr",
     "output_type": "stream",
     "text": [
      "\n"
     ]
    },
    {
     "name": "stdout",
     "output_type": "stream",
     "text": [
      "\n",
      "      Epoch    GPU_mem   box_loss   cls_loss   dfl_loss  Instances       Size\n"
     ]
    },
    {
     "name": "stderr",
     "output_type": "stream",
     "text": [
      "      34/35      4.96G     0.6834     0.4886     0.9109         57        640: 100%|██████████| 13/13 [00:17<00:00,  1.33s/it]\n",
      "                 Class     Images  Instances      Box(P          R      mAP50  mAP50-95): 100%|██████████| 1/1 [00:00<00:00,  4.63it/s]"
     ]
    },
    {
     "name": "stdout",
     "output_type": "stream",
     "text": [
      "                   all          3        160      0.931      0.929      0.959      0.682\n"
     ]
    },
    {
     "name": "stderr",
     "output_type": "stream",
     "text": [
      "\n"
     ]
    },
    {
     "name": "stdout",
     "output_type": "stream",
     "text": [
      "\n",
      "      Epoch    GPU_mem   box_loss   cls_loss   dfl_loss  Instances       Size\n"
     ]
    },
    {
     "name": "stderr",
     "output_type": "stream",
     "text": [
      "      35/35      4.98G     0.6865     0.4872     0.9475         32        640: 100%|██████████| 13/13 [00:06<00:00,  1.99it/s]\n",
      "                 Class     Images  Instances      Box(P          R      mAP50  mAP50-95): 100%|██████████| 1/1 [00:00<00:00,  5.62it/s]"
     ]
    },
    {
     "name": "stdout",
     "output_type": "stream",
     "text": [
      "                   all          3        160      0.934      0.925      0.961      0.689\n"
     ]
    },
    {
     "name": "stderr",
     "output_type": "stream",
     "text": [
      "\n"
     ]
    },
    {
     "name": "stdout",
     "output_type": "stream",
     "text": [
      "\n",
      "35 epochs completed in 0.196 hours.\n",
      "Optimizer stripped from runs\\detect\\train15\\weights\\last.pt, 136.7MB\n",
      "Optimizer stripped from runs\\detect\\train15\\weights\\best.pt, 136.7MB\n",
      "\n",
      "Validating runs\\detect\\train15\\weights\\best.pt...\n",
      "Ultralytics 8.3.155  Python-3.12.7 torch-2.7.1+cu118 CUDA:0 (NVIDIA GeForce RTX 2060, 6144MiB)\n",
      "Model summary (fused): 112 layers, 68,124,531 parameters, 0 gradients, 257.4 GFLOPs\n"
     ]
    },
    {
     "name": "stderr",
     "output_type": "stream",
     "text": [
      "                 Class     Images  Instances      Box(P          R      mAP50  mAP50-95): 100%|██████████| 1/1 [00:00<00:00,  7.29it/s]\n"
     ]
    },
    {
     "name": "stdout",
     "output_type": "stream",
     "text": [
      "                   all          3        160      0.909       0.95      0.977      0.688\n",
      "Speed: 0.8ms preprocess, 34.4ms inference, 0.0ms loss, 2.1ms postprocess per image\n",
      "Results saved to \u001b[1mruns\\detect\\train15\u001b[0m\n"
     ]
    },
    {
     "data": {
      "text/plain": [
       "ultralytics.utils.metrics.DetMetrics object with attributes:\n",
       "\n",
       "ap_class_index: array([0])\n",
       "box: ultralytics.utils.metrics.Metric object\n",
       "confusion_matrix: <ultralytics.utils.metrics.ConfusionMatrix object at 0x000001B5A4E92ED0>\n",
       "curves: ['Precision-Recall(B)', 'F1-Confidence(B)', 'Precision-Confidence(B)', 'Recall-Confidence(B)']\n",
       "curves_results: [[array([          0,    0.001001,    0.002002,    0.003003,    0.004004,    0.005005,    0.006006,    0.007007,    0.008008,    0.009009,     0.01001,    0.011011,    0.012012,    0.013013,    0.014014,    0.015015,    0.016016,    0.017017,    0.018018,    0.019019,     0.02002,    0.021021,    0.022022,    0.023023,\n",
       "          0.024024,    0.025025,    0.026026,    0.027027,    0.028028,    0.029029,     0.03003,    0.031031,    0.032032,    0.033033,    0.034034,    0.035035,    0.036036,    0.037037,    0.038038,    0.039039,     0.04004,    0.041041,    0.042042,    0.043043,    0.044044,    0.045045,    0.046046,    0.047047,\n",
       "          0.048048,    0.049049,     0.05005,    0.051051,    0.052052,    0.053053,    0.054054,    0.055055,    0.056056,    0.057057,    0.058058,    0.059059,     0.06006,    0.061061,    0.062062,    0.063063,    0.064064,    0.065065,    0.066066,    0.067067,    0.068068,    0.069069,     0.07007,    0.071071,\n",
       "          0.072072,    0.073073,    0.074074,    0.075075,    0.076076,    0.077077,    0.078078,    0.079079,     0.08008,    0.081081,    0.082082,    0.083083,    0.084084,    0.085085,    0.086086,    0.087087,    0.088088,    0.089089,     0.09009,    0.091091,    0.092092,    0.093093,    0.094094,    0.095095,\n",
       "          0.096096,    0.097097,    0.098098,    0.099099,      0.1001,      0.1011,      0.1021,      0.1031,      0.1041,     0.10511,     0.10611,     0.10711,     0.10811,     0.10911,     0.11011,     0.11111,     0.11211,     0.11311,     0.11411,     0.11512,     0.11612,     0.11712,     0.11812,     0.11912,\n",
       "           0.12012,     0.12112,     0.12212,     0.12312,     0.12412,     0.12513,     0.12613,     0.12713,     0.12813,     0.12913,     0.13013,     0.13113,     0.13213,     0.13313,     0.13413,     0.13514,     0.13614,     0.13714,     0.13814,     0.13914,     0.14014,     0.14114,     0.14214,     0.14314,\n",
       "           0.14414,     0.14515,     0.14615,     0.14715,     0.14815,     0.14915,     0.15015,     0.15115,     0.15215,     0.15315,     0.15415,     0.15516,     0.15616,     0.15716,     0.15816,     0.15916,     0.16016,     0.16116,     0.16216,     0.16316,     0.16416,     0.16517,     0.16617,     0.16717,\n",
       "           0.16817,     0.16917,     0.17017,     0.17117,     0.17217,     0.17317,     0.17417,     0.17518,     0.17618,     0.17718,     0.17818,     0.17918,     0.18018,     0.18118,     0.18218,     0.18318,     0.18418,     0.18519,     0.18619,     0.18719,     0.18819,     0.18919,     0.19019,     0.19119,\n",
       "           0.19219,     0.19319,     0.19419,      0.1952,      0.1962,      0.1972,      0.1982,      0.1992,      0.2002,      0.2012,      0.2022,      0.2032,      0.2042,     0.20521,     0.20621,     0.20721,     0.20821,     0.20921,     0.21021,     0.21121,     0.21221,     0.21321,     0.21421,     0.21522,\n",
       "           0.21622,     0.21722,     0.21822,     0.21922,     0.22022,     0.22122,     0.22222,     0.22322,     0.22422,     0.22523,     0.22623,     0.22723,     0.22823,     0.22923,     0.23023,     0.23123,     0.23223,     0.23323,     0.23423,     0.23524,     0.23624,     0.23724,     0.23824,     0.23924,\n",
       "           0.24024,     0.24124,     0.24224,     0.24324,     0.24424,     0.24525,     0.24625,     0.24725,     0.24825,     0.24925,     0.25025,     0.25125,     0.25225,     0.25325,     0.25425,     0.25526,     0.25626,     0.25726,     0.25826,     0.25926,     0.26026,     0.26126,     0.26226,     0.26326,\n",
       "           0.26426,     0.26527,     0.26627,     0.26727,     0.26827,     0.26927,     0.27027,     0.27127,     0.27227,     0.27327,     0.27427,     0.27528,     0.27628,     0.27728,     0.27828,     0.27928,     0.28028,     0.28128,     0.28228,     0.28328,     0.28428,     0.28529,     0.28629,     0.28729,\n",
       "           0.28829,     0.28929,     0.29029,     0.29129,     0.29229,     0.29329,     0.29429,      0.2953,      0.2963,      0.2973,      0.2983,      0.2993,      0.3003,      0.3013,      0.3023,      0.3033,      0.3043,     0.30531,     0.30631,     0.30731,     0.30831,     0.30931,     0.31031,     0.31131,\n",
       "           0.31231,     0.31331,     0.31431,     0.31532,     0.31632,     0.31732,     0.31832,     0.31932,     0.32032,     0.32132,     0.32232,     0.32332,     0.32432,     0.32533,     0.32633,     0.32733,     0.32833,     0.32933,     0.33033,     0.33133,     0.33233,     0.33333,     0.33433,     0.33534,\n",
       "           0.33634,     0.33734,     0.33834,     0.33934,     0.34034,     0.34134,     0.34234,     0.34334,     0.34434,     0.34535,     0.34635,     0.34735,     0.34835,     0.34935,     0.35035,     0.35135,     0.35235,     0.35335,     0.35435,     0.35536,     0.35636,     0.35736,     0.35836,     0.35936,\n",
       "           0.36036,     0.36136,     0.36236,     0.36336,     0.36436,     0.36537,     0.36637,     0.36737,     0.36837,     0.36937,     0.37037,     0.37137,     0.37237,     0.37337,     0.37437,     0.37538,     0.37638,     0.37738,     0.37838,     0.37938,     0.38038,     0.38138,     0.38238,     0.38338,\n",
       "           0.38438,     0.38539,     0.38639,     0.38739,     0.38839,     0.38939,     0.39039,     0.39139,     0.39239,     0.39339,     0.39439,      0.3954,      0.3964,      0.3974,      0.3984,      0.3994,      0.4004,      0.4014,      0.4024,      0.4034,      0.4044,     0.40541,     0.40641,     0.40741,\n",
       "           0.40841,     0.40941,     0.41041,     0.41141,     0.41241,     0.41341,     0.41441,     0.41542,     0.41642,     0.41742,     0.41842,     0.41942,     0.42042,     0.42142,     0.42242,     0.42342,     0.42442,     0.42543,     0.42643,     0.42743,     0.42843,     0.42943,     0.43043,     0.43143,\n",
       "           0.43243,     0.43343,     0.43443,     0.43544,     0.43644,     0.43744,     0.43844,     0.43944,     0.44044,     0.44144,     0.44244,     0.44344,     0.44444,     0.44545,     0.44645,     0.44745,     0.44845,     0.44945,     0.45045,     0.45145,     0.45245,     0.45345,     0.45445,     0.45546,\n",
       "           0.45646,     0.45746,     0.45846,     0.45946,     0.46046,     0.46146,     0.46246,     0.46346,     0.46446,     0.46547,     0.46647,     0.46747,     0.46847,     0.46947,     0.47047,     0.47147,     0.47247,     0.47347,     0.47447,     0.47548,     0.47648,     0.47748,     0.47848,     0.47948,\n",
       "           0.48048,     0.48148,     0.48248,     0.48348,     0.48448,     0.48549,     0.48649,     0.48749,     0.48849,     0.48949,     0.49049,     0.49149,     0.49249,     0.49349,     0.49449,      0.4955,      0.4965,      0.4975,      0.4985,      0.4995,      0.5005,      0.5015,      0.5025,      0.5035,\n",
       "            0.5045,     0.50551,     0.50651,     0.50751,     0.50851,     0.50951,     0.51051,     0.51151,     0.51251,     0.51351,     0.51451,     0.51552,     0.51652,     0.51752,     0.51852,     0.51952,     0.52052,     0.52152,     0.52252,     0.52352,     0.52452,     0.52553,     0.52653,     0.52753,\n",
       "           0.52853,     0.52953,     0.53053,     0.53153,     0.53253,     0.53353,     0.53453,     0.53554,     0.53654,     0.53754,     0.53854,     0.53954,     0.54054,     0.54154,     0.54254,     0.54354,     0.54454,     0.54555,     0.54655,     0.54755,     0.54855,     0.54955,     0.55055,     0.55155,\n",
       "           0.55255,     0.55355,     0.55455,     0.55556,     0.55656,     0.55756,     0.55856,     0.55956,     0.56056,     0.56156,     0.56256,     0.56356,     0.56456,     0.56557,     0.56657,     0.56757,     0.56857,     0.56957,     0.57057,     0.57157,     0.57257,     0.57357,     0.57457,     0.57558,\n",
       "           0.57658,     0.57758,     0.57858,     0.57958,     0.58058,     0.58158,     0.58258,     0.58358,     0.58458,     0.58559,     0.58659,     0.58759,     0.58859,     0.58959,     0.59059,     0.59159,     0.59259,     0.59359,     0.59459,      0.5956,      0.5966,      0.5976,      0.5986,      0.5996,\n",
       "            0.6006,      0.6016,      0.6026,      0.6036,      0.6046,     0.60561,     0.60661,     0.60761,     0.60861,     0.60961,     0.61061,     0.61161,     0.61261,     0.61361,     0.61461,     0.61562,     0.61662,     0.61762,     0.61862,     0.61962,     0.62062,     0.62162,     0.62262,     0.62362,\n",
       "           0.62462,     0.62563,     0.62663,     0.62763,     0.62863,     0.62963,     0.63063,     0.63163,     0.63263,     0.63363,     0.63463,     0.63564,     0.63664,     0.63764,     0.63864,     0.63964,     0.64064,     0.64164,     0.64264,     0.64364,     0.64464,     0.64565,     0.64665,     0.64765,\n",
       "           0.64865,     0.64965,     0.65065,     0.65165,     0.65265,     0.65365,     0.65465,     0.65566,     0.65666,     0.65766,     0.65866,     0.65966,     0.66066,     0.66166,     0.66266,     0.66366,     0.66466,     0.66567,     0.66667,     0.66767,     0.66867,     0.66967,     0.67067,     0.67167,\n",
       "           0.67267,     0.67367,     0.67467,     0.67568,     0.67668,     0.67768,     0.67868,     0.67968,     0.68068,     0.68168,     0.68268,     0.68368,     0.68468,     0.68569,     0.68669,     0.68769,     0.68869,     0.68969,     0.69069,     0.69169,     0.69269,     0.69369,     0.69469,      0.6957,\n",
       "            0.6967,      0.6977,      0.6987,      0.6997,      0.7007,      0.7017,      0.7027,      0.7037,      0.7047,     0.70571,     0.70671,     0.70771,     0.70871,     0.70971,     0.71071,     0.71171,     0.71271,     0.71371,     0.71471,     0.71572,     0.71672,     0.71772,     0.71872,     0.71972,\n",
       "           0.72072,     0.72172,     0.72272,     0.72372,     0.72472,     0.72573,     0.72673,     0.72773,     0.72873,     0.72973,     0.73073,     0.73173,     0.73273,     0.73373,     0.73473,     0.73574,     0.73674,     0.73774,     0.73874,     0.73974,     0.74074,     0.74174,     0.74274,     0.74374,\n",
       "           0.74474,     0.74575,     0.74675,     0.74775,     0.74875,     0.74975,     0.75075,     0.75175,     0.75275,     0.75375,     0.75475,     0.75576,     0.75676,     0.75776,     0.75876,     0.75976,     0.76076,     0.76176,     0.76276,     0.76376,     0.76476,     0.76577,     0.76677,     0.76777,\n",
       "           0.76877,     0.76977,     0.77077,     0.77177,     0.77277,     0.77377,     0.77477,     0.77578,     0.77678,     0.77778,     0.77878,     0.77978,     0.78078,     0.78178,     0.78278,     0.78378,     0.78478,     0.78579,     0.78679,     0.78779,     0.78879,     0.78979,     0.79079,     0.79179,\n",
       "           0.79279,     0.79379,     0.79479,      0.7958,      0.7968,      0.7978,      0.7988,      0.7998,      0.8008,      0.8018,      0.8028,      0.8038,      0.8048,     0.80581,     0.80681,     0.80781,     0.80881,     0.80981,     0.81081,     0.81181,     0.81281,     0.81381,     0.81481,     0.81582,\n",
       "           0.81682,     0.81782,     0.81882,     0.81982,     0.82082,     0.82182,     0.82282,     0.82382,     0.82482,     0.82583,     0.82683,     0.82783,     0.82883,     0.82983,     0.83083,     0.83183,     0.83283,     0.83383,     0.83483,     0.83584,     0.83684,     0.83784,     0.83884,     0.83984,\n",
       "           0.84084,     0.84184,     0.84284,     0.84384,     0.84484,     0.84585,     0.84685,     0.84785,     0.84885,     0.84985,     0.85085,     0.85185,     0.85285,     0.85385,     0.85485,     0.85586,     0.85686,     0.85786,     0.85886,     0.85986,     0.86086,     0.86186,     0.86286,     0.86386,\n",
       "           0.86486,     0.86587,     0.86687,     0.86787,     0.86887,     0.86987,     0.87087,     0.87187,     0.87287,     0.87387,     0.87487,     0.87588,     0.87688,     0.87788,     0.87888,     0.87988,     0.88088,     0.88188,     0.88288,     0.88388,     0.88488,     0.88589,     0.88689,     0.88789,\n",
       "           0.88889,     0.88989,     0.89089,     0.89189,     0.89289,     0.89389,     0.89489,      0.8959,      0.8969,      0.8979,      0.8989,      0.8999,      0.9009,      0.9019,      0.9029,      0.9039,      0.9049,     0.90591,     0.90691,     0.90791,     0.90891,     0.90991,     0.91091,     0.91191,\n",
       "           0.91291,     0.91391,     0.91491,     0.91592,     0.91692,     0.91792,     0.91892,     0.91992,     0.92092,     0.92192,     0.92292,     0.92392,     0.92492,     0.92593,     0.92693,     0.92793,     0.92893,     0.92993,     0.93093,     0.93193,     0.93293,     0.93393,     0.93493,     0.93594,\n",
       "           0.93694,     0.93794,     0.93894,     0.93994,     0.94094,     0.94194,     0.94294,     0.94394,     0.94494,     0.94595,     0.94695,     0.94795,     0.94895,     0.94995,     0.95095,     0.95195,     0.95295,     0.95395,     0.95495,     0.95596,     0.95696,     0.95796,     0.95896,     0.95996,\n",
       "           0.96096,     0.96196,     0.96296,     0.96396,     0.96496,     0.96597,     0.96697,     0.96797,     0.96897,     0.96997,     0.97097,     0.97197,     0.97297,     0.97397,     0.97497,     0.97598,     0.97698,     0.97798,     0.97898,     0.97998,     0.98098,     0.98198,     0.98298,     0.98398,\n",
       "           0.98498,     0.98599,     0.98699,     0.98799,     0.98899,     0.98999,     0.99099,     0.99199,     0.99299,     0.99399,     0.99499,       0.996,       0.997,       0.998,       0.999,           1]), array([[          1,           1,           1,           1,           1,           1,           1,           1,           1,           1,           1,           1,           1,           1,           1,           1,           1,           1,           1,           1,           1,           1,           1,\n",
       "                  1,           1,           1,           1,           1,           1,           1,           1,           1,           1,           1,           1,           1,           1,           1,           1,           1,           1,           1,           1,           1,           1,           1,\n",
       "                  1,           1,           1,           1,           1,           1,           1,           1,           1,           1,           1,           1,           1,           1,           1,           1,           1,           1,           1,           1,           1,           1,           1,\n",
       "                  1,           1,           1,           1,           1,           1,           1,           1,           1,           1,           1,           1,           1,           1,           1,           1,           1,           1,           1,           1,           1,           1,           1,\n",
       "                  1,           1,           1,           1,           1,           1,           1,           1,           1,           1,           1,           1,           1,           1,           1,           1,           1,           1,           1,           1,           1,           1,           1,\n",
       "                  1,           1,           1,           1,           1,           1,           1,           1,           1,           1,           1,           1,           1,           1,           1,           1,           1,           1,           1,           1,           1,           1,           1,\n",
       "                  1,           1,           1,           1,           1,           1,           1,           1,           1,           1,           1,           1,           1,           1,           1,           1,           1,           1,           1,           1,           1,           1,           1,\n",
       "                  1,           1,           1,           1,           1,           1,           1,           1,           1,           1,           1,           1,           1,           1,           1,           1,           1,           1,           1,           1,           1,           1,           1,\n",
       "                  1,           1,           1,           1,           1,           1,           1,           1,           1,           1,           1,           1,           1,           1,           1,           1,           1,           1,           1,           1,           1,           1,           1,\n",
       "                  1,           1,           1,           1,           1,           1,           1,           1,           1,           1,           1,           1,           1,           1,           1,           1,           1,           1,           1,           1,           1,           1,           1,\n",
       "                  1,           1,           1,           1,           1,           1,           1,           1,           1,           1,           1,           1,           1,           1,           1,           1,           1,           1,           1,           1,           1,           1,           1,\n",
       "                  1,           1,           1,           1,           1,           1,           1,           1,           1,           1,           1,           1,           1,           1,           1,           1,           1,           1,           1,           1,           1,           1,           1,\n",
       "                  1,           1,           1,           1,           1,           1,           1,           1,           1,           1,           1,           1,           1,           1,           1,           1,           1,           1,           1,           1,           1,           1,           1,\n",
       "                  1,           1,           1,           1,           1,           1,           1,           1,           1,           1,           1,           1,           1,           1,           1,           1,           1,           1,           1,           1,           1,           1,           1,\n",
       "                  1,           1,           1,           1,           1,           1,           1,           1,           1,           1,           1,           1,           1,           1,           1,           1,           1,           1,           1,           1,           1,           1,           1,\n",
       "                  1,           1,           1,           1,           1,           1,           1,           1,           1,           1,           1,           1,           1,           1,           1,           1,           1,           1,           1,           1,           1,           1,           1,\n",
       "                  1,           1,           1,           1,           1,           1,           1,           1,           1,           1,           1,           1,           1,           1,           1,           1,           1,           1,           1,           1,           1,           1,           1,\n",
       "                  1,           1,           1,           1,           1,           1,           1,           1,           1,           1,           1,           1,           1,           1,           1,           1,           1,           1,           1,           1,           1,           1,           1,\n",
       "                  1,           1,           1,           1,           1,           1,           1,           1,           1,           1,           1,           1,           1,           1,           1,           1,           1,           1,           1,           1,           1,           1,           1,\n",
       "                  1,           1,           1,           1,           1,           1,           1,           1,           1,           1,           1,           1,           1,           1,           1,           1,           1,           1,           1,           1,           1,           1,           1,\n",
       "                  1,           1,           1,           1,           1,           1,           1,           1,           1,           1,           1,           1,           1,           1,           1,           1,           1,           1,           1,           1,           1,           1,           1,\n",
       "                  1,           1,           1,           1,           1,           1,           1,           1,           1,           1,           1,           1,           1,           1,           1,           1,           1,           1,           1,           1,           1,           1,           1,\n",
       "                  1,           1,           1,           1,           1,           1,           1,           1,           1,           1,           1,           1,           1,           1,           1,           1,           1,           1,           1,           1,           1,           1,           1,\n",
       "                  1,           1,           1,           1,           1,           1,           1,           1,           1,           1,           1,           1,           1,           1,           1,           1,           1,           1,           1,           1,           1,           1,           1,\n",
       "                  1,           1,           1,           1,           1,           1,           1,           1,           1,           1,           1,           1,           1,           1,           1,           1,           1,           1,           1,           1,           1,           1,           1,\n",
       "                  1,           1,           1,           1,           1,           1,           1,           1,           1,           1,           1,           1,           1,           1,           1,           1,           1,           1,           1,           1,           1,           1,           1,\n",
       "                  1,           1,           1,           1,           1,           1,           1,           1,           1,           1,           1,           1,           1,           1,           1,           1,           1,           1,           1,           1,           1,           1,           1,\n",
       "                  1,           1,           1,           1,           1,           1,           1,           1,           1,           1,           1,           1,           1,           1,           1,           1,           1,           1,           1,           1,           1,           1,           1,\n",
       "                  1,           1,           1,           1,           1,           1,           1,           1,           1,           1,           1,           1,           1,           1,           1,           1,           1,           1,           1,           1,           1,           1,           1,\n",
       "                  1,           1,           1,           1,           1,           1,           1,           1,           1,           1,           1,           1,           1,           1,           1,           1,           1,           1,           1,           1,           1,           1,           1,\n",
       "                  1,           1,           1,           1,           1,           1,           1,           1,           1,           1,           1,           1,           1,           1,           1,           1,           1,           1,           1,           1,           1,           1,           1,\n",
       "                  1,           1,           1,           1,           1,           1,           1,           1,           1,           1,           1,           1,           1,           1,           1,           1,           1,           1,           1,           1,           1,           1,           1,\n",
       "                  1,           1,           1,           1,           1,           1,           1,           1,     0.99174,     0.99174,     0.99174,     0.99174,     0.99174,     0.99174,     0.98473,     0.98473,     0.98473,     0.98473,     0.98473,     0.98473,     0.98473,     0.98473,     0.98473,\n",
       "            0.98473,     0.98473,     0.98473,     0.98473,     0.98473,     0.98473,     0.98473,     0.98473,     0.98473,     0.98473,     0.98473,     0.98473,     0.98473,     0.98473,     0.98473,     0.98473,     0.98473,     0.98473,     0.98473,     0.98473,     0.98473,     0.98473,     0.98473,\n",
       "            0.98473,     0.98473,     0.98473,     0.98473,     0.98473,     0.98473,     0.98473,     0.98473,     0.98473,     0.98473,     0.98473,     0.98473,     0.98473,     0.98473,     0.98473,     0.98473,     0.98473,     0.98473,     0.98473,     0.98473,     0.98473,     0.98473,     0.98473,\n",
       "            0.98473,     0.97794,     0.97794,     0.97794,     0.97794,     0.97794,     0.97794,     0.97794,     0.97794,     0.97794,     0.97794,     0.97794,     0.97794,     0.97794,     0.97794,     0.97794,     0.97794,     0.97794,     0.97794,     0.97794,     0.97794,     0.97794,     0.97794,\n",
       "            0.97794,     0.97794,     0.97794,     0.97101,     0.97101,     0.97101,     0.97101,     0.97101,     0.97101,     0.96479,     0.96479,     0.96479,     0.96479,     0.96479,     0.96479,     0.96479,     0.96479,     0.96479,     0.96479,     0.96479,     0.96479,     0.96479,     0.96479,\n",
       "            0.96479,     0.96479,     0.96479,     0.96479,     0.96479,     0.95862,     0.95862,     0.95862,     0.95862,     0.95862,     0.95862,     0.95862,     0.95862,     0.95862,     0.95862,     0.95862,     0.95862,     0.94631,     0.94631,     0.94631,     0.94631,     0.94631,     0.94631,\n",
       "            0.94631,     0.94631,     0.94631,     0.94631,     0.94631,     0.94631,     0.94631,     0.94118,     0.94118,     0.94118,     0.94118,     0.94118,     0.94118,     0.94118,     0.94118,     0.94118,     0.94118,     0.94118,     0.94118,     0.94118,     0.94118,     0.94118,     0.94118,\n",
       "            0.94118,     0.94118,     0.94118,      0.9359,      0.9359,      0.9359,      0.9359,      0.9359,      0.9359,      0.9359,      0.9359,      0.9359,      0.9359,      0.9359,      0.9359,     0.93038,     0.93038,     0.93038,     0.93038,     0.93038,     0.93038,     0.92547,     0.92547,\n",
       "            0.92547,     0.92547,     0.92547,     0.92547,     0.92547,     0.92547,     0.92547,     0.92547,     0.92547,     0.92547,     0.92547,     0.91515,     0.91515,     0.91515,     0.91515,     0.91515,     0.91515,     0.91515,     0.91515,     0.91515,     0.91515,     0.91515,     0.91515,\n",
       "            0.91018,     0.91018,     0.91018,     0.91018,     0.91018,     0.91018,     0.91018,     0.88506,     0.88506,     0.88506,     0.88506,     0.88506,     0.88506,     0.88506,     0.88506,     0.88506,     0.88506,     0.88506,     0.88506,     0.86111,     0.86111,     0.86111,     0.86111,\n",
       "            0.86111,     0.86111,     0.85246,     0.85246,     0.85246,     0.85246,     0.85246,     0.85246,     0.85246,     0.71041,     0.71041,     0.71041,     0.71041,     0.71041,     0.71041,     0.70354,     0.70354,     0.70354,     0.70354,     0.70354,     0.70354,     0.70354,     0.70354,\n",
       "            0.70354,     0.70354,     0.70354,     0.70354,     0.36036,     0.36036,     0.36036,     0.36036,     0.36036,     0.36036,           0]]), 'Recall', 'Precision'], [array([          0,    0.001001,    0.002002,    0.003003,    0.004004,    0.005005,    0.006006,    0.007007,    0.008008,    0.009009,     0.01001,    0.011011,    0.012012,    0.013013,    0.014014,    0.015015,    0.016016,    0.017017,    0.018018,    0.019019,     0.02002,    0.021021,    0.022022,    0.023023,\n",
       "          0.024024,    0.025025,    0.026026,    0.027027,    0.028028,    0.029029,     0.03003,    0.031031,    0.032032,    0.033033,    0.034034,    0.035035,    0.036036,    0.037037,    0.038038,    0.039039,     0.04004,    0.041041,    0.042042,    0.043043,    0.044044,    0.045045,    0.046046,    0.047047,\n",
       "          0.048048,    0.049049,     0.05005,    0.051051,    0.052052,    0.053053,    0.054054,    0.055055,    0.056056,    0.057057,    0.058058,    0.059059,     0.06006,    0.061061,    0.062062,    0.063063,    0.064064,    0.065065,    0.066066,    0.067067,    0.068068,    0.069069,     0.07007,    0.071071,\n",
       "          0.072072,    0.073073,    0.074074,    0.075075,    0.076076,    0.077077,    0.078078,    0.079079,     0.08008,    0.081081,    0.082082,    0.083083,    0.084084,    0.085085,    0.086086,    0.087087,    0.088088,    0.089089,     0.09009,    0.091091,    0.092092,    0.093093,    0.094094,    0.095095,\n",
       "          0.096096,    0.097097,    0.098098,    0.099099,      0.1001,      0.1011,      0.1021,      0.1031,      0.1041,     0.10511,     0.10611,     0.10711,     0.10811,     0.10911,     0.11011,     0.11111,     0.11211,     0.11311,     0.11411,     0.11512,     0.11612,     0.11712,     0.11812,     0.11912,\n",
       "           0.12012,     0.12112,     0.12212,     0.12312,     0.12412,     0.12513,     0.12613,     0.12713,     0.12813,     0.12913,     0.13013,     0.13113,     0.13213,     0.13313,     0.13413,     0.13514,     0.13614,     0.13714,     0.13814,     0.13914,     0.14014,     0.14114,     0.14214,     0.14314,\n",
       "           0.14414,     0.14515,     0.14615,     0.14715,     0.14815,     0.14915,     0.15015,     0.15115,     0.15215,     0.15315,     0.15415,     0.15516,     0.15616,     0.15716,     0.15816,     0.15916,     0.16016,     0.16116,     0.16216,     0.16316,     0.16416,     0.16517,     0.16617,     0.16717,\n",
       "           0.16817,     0.16917,     0.17017,     0.17117,     0.17217,     0.17317,     0.17417,     0.17518,     0.17618,     0.17718,     0.17818,     0.17918,     0.18018,     0.18118,     0.18218,     0.18318,     0.18418,     0.18519,     0.18619,     0.18719,     0.18819,     0.18919,     0.19019,     0.19119,\n",
       "           0.19219,     0.19319,     0.19419,      0.1952,      0.1962,      0.1972,      0.1982,      0.1992,      0.2002,      0.2012,      0.2022,      0.2032,      0.2042,     0.20521,     0.20621,     0.20721,     0.20821,     0.20921,     0.21021,     0.21121,     0.21221,     0.21321,     0.21421,     0.21522,\n",
       "           0.21622,     0.21722,     0.21822,     0.21922,     0.22022,     0.22122,     0.22222,     0.22322,     0.22422,     0.22523,     0.22623,     0.22723,     0.22823,     0.22923,     0.23023,     0.23123,     0.23223,     0.23323,     0.23423,     0.23524,     0.23624,     0.23724,     0.23824,     0.23924,\n",
       "           0.24024,     0.24124,     0.24224,     0.24324,     0.24424,     0.24525,     0.24625,     0.24725,     0.24825,     0.24925,     0.25025,     0.25125,     0.25225,     0.25325,     0.25425,     0.25526,     0.25626,     0.25726,     0.25826,     0.25926,     0.26026,     0.26126,     0.26226,     0.26326,\n",
       "           0.26426,     0.26527,     0.26627,     0.26727,     0.26827,     0.26927,     0.27027,     0.27127,     0.27227,     0.27327,     0.27427,     0.27528,     0.27628,     0.27728,     0.27828,     0.27928,     0.28028,     0.28128,     0.28228,     0.28328,     0.28428,     0.28529,     0.28629,     0.28729,\n",
       "           0.28829,     0.28929,     0.29029,     0.29129,     0.29229,     0.29329,     0.29429,      0.2953,      0.2963,      0.2973,      0.2983,      0.2993,      0.3003,      0.3013,      0.3023,      0.3033,      0.3043,     0.30531,     0.30631,     0.30731,     0.30831,     0.30931,     0.31031,     0.31131,\n",
       "           0.31231,     0.31331,     0.31431,     0.31532,     0.31632,     0.31732,     0.31832,     0.31932,     0.32032,     0.32132,     0.32232,     0.32332,     0.32432,     0.32533,     0.32633,     0.32733,     0.32833,     0.32933,     0.33033,     0.33133,     0.33233,     0.33333,     0.33433,     0.33534,\n",
       "           0.33634,     0.33734,     0.33834,     0.33934,     0.34034,     0.34134,     0.34234,     0.34334,     0.34434,     0.34535,     0.34635,     0.34735,     0.34835,     0.34935,     0.35035,     0.35135,     0.35235,     0.35335,     0.35435,     0.35536,     0.35636,     0.35736,     0.35836,     0.35936,\n",
       "           0.36036,     0.36136,     0.36236,     0.36336,     0.36436,     0.36537,     0.36637,     0.36737,     0.36837,     0.36937,     0.37037,     0.37137,     0.37237,     0.37337,     0.37437,     0.37538,     0.37638,     0.37738,     0.37838,     0.37938,     0.38038,     0.38138,     0.38238,     0.38338,\n",
       "           0.38438,     0.38539,     0.38639,     0.38739,     0.38839,     0.38939,     0.39039,     0.39139,     0.39239,     0.39339,     0.39439,      0.3954,      0.3964,      0.3974,      0.3984,      0.3994,      0.4004,      0.4014,      0.4024,      0.4034,      0.4044,     0.40541,     0.40641,     0.40741,\n",
       "           0.40841,     0.40941,     0.41041,     0.41141,     0.41241,     0.41341,     0.41441,     0.41542,     0.41642,     0.41742,     0.41842,     0.41942,     0.42042,     0.42142,     0.42242,     0.42342,     0.42442,     0.42543,     0.42643,     0.42743,     0.42843,     0.42943,     0.43043,     0.43143,\n",
       "           0.43243,     0.43343,     0.43443,     0.43544,     0.43644,     0.43744,     0.43844,     0.43944,     0.44044,     0.44144,     0.44244,     0.44344,     0.44444,     0.44545,     0.44645,     0.44745,     0.44845,     0.44945,     0.45045,     0.45145,     0.45245,     0.45345,     0.45445,     0.45546,\n",
       "           0.45646,     0.45746,     0.45846,     0.45946,     0.46046,     0.46146,     0.46246,     0.46346,     0.46446,     0.46547,     0.46647,     0.46747,     0.46847,     0.46947,     0.47047,     0.47147,     0.47247,     0.47347,     0.47447,     0.47548,     0.47648,     0.47748,     0.47848,     0.47948,\n",
       "           0.48048,     0.48148,     0.48248,     0.48348,     0.48448,     0.48549,     0.48649,     0.48749,     0.48849,     0.48949,     0.49049,     0.49149,     0.49249,     0.49349,     0.49449,      0.4955,      0.4965,      0.4975,      0.4985,      0.4995,      0.5005,      0.5015,      0.5025,      0.5035,\n",
       "            0.5045,     0.50551,     0.50651,     0.50751,     0.50851,     0.50951,     0.51051,     0.51151,     0.51251,     0.51351,     0.51451,     0.51552,     0.51652,     0.51752,     0.51852,     0.51952,     0.52052,     0.52152,     0.52252,     0.52352,     0.52452,     0.52553,     0.52653,     0.52753,\n",
       "           0.52853,     0.52953,     0.53053,     0.53153,     0.53253,     0.53353,     0.53453,     0.53554,     0.53654,     0.53754,     0.53854,     0.53954,     0.54054,     0.54154,     0.54254,     0.54354,     0.54454,     0.54555,     0.54655,     0.54755,     0.54855,     0.54955,     0.55055,     0.55155,\n",
       "           0.55255,     0.55355,     0.55455,     0.55556,     0.55656,     0.55756,     0.55856,     0.55956,     0.56056,     0.56156,     0.56256,     0.56356,     0.56456,     0.56557,     0.56657,     0.56757,     0.56857,     0.56957,     0.57057,     0.57157,     0.57257,     0.57357,     0.57457,     0.57558,\n",
       "           0.57658,     0.57758,     0.57858,     0.57958,     0.58058,     0.58158,     0.58258,     0.58358,     0.58458,     0.58559,     0.58659,     0.58759,     0.58859,     0.58959,     0.59059,     0.59159,     0.59259,     0.59359,     0.59459,      0.5956,      0.5966,      0.5976,      0.5986,      0.5996,\n",
       "            0.6006,      0.6016,      0.6026,      0.6036,      0.6046,     0.60561,     0.60661,     0.60761,     0.60861,     0.60961,     0.61061,     0.61161,     0.61261,     0.61361,     0.61461,     0.61562,     0.61662,     0.61762,     0.61862,     0.61962,     0.62062,     0.62162,     0.62262,     0.62362,\n",
       "           0.62462,     0.62563,     0.62663,     0.62763,     0.62863,     0.62963,     0.63063,     0.63163,     0.63263,     0.63363,     0.63463,     0.63564,     0.63664,     0.63764,     0.63864,     0.63964,     0.64064,     0.64164,     0.64264,     0.64364,     0.64464,     0.64565,     0.64665,     0.64765,\n",
       "           0.64865,     0.64965,     0.65065,     0.65165,     0.65265,     0.65365,     0.65465,     0.65566,     0.65666,     0.65766,     0.65866,     0.65966,     0.66066,     0.66166,     0.66266,     0.66366,     0.66466,     0.66567,     0.66667,     0.66767,     0.66867,     0.66967,     0.67067,     0.67167,\n",
       "           0.67267,     0.67367,     0.67467,     0.67568,     0.67668,     0.67768,     0.67868,     0.67968,     0.68068,     0.68168,     0.68268,     0.68368,     0.68468,     0.68569,     0.68669,     0.68769,     0.68869,     0.68969,     0.69069,     0.69169,     0.69269,     0.69369,     0.69469,      0.6957,\n",
       "            0.6967,      0.6977,      0.6987,      0.6997,      0.7007,      0.7017,      0.7027,      0.7037,      0.7047,     0.70571,     0.70671,     0.70771,     0.70871,     0.70971,     0.71071,     0.71171,     0.71271,     0.71371,     0.71471,     0.71572,     0.71672,     0.71772,     0.71872,     0.71972,\n",
       "           0.72072,     0.72172,     0.72272,     0.72372,     0.72472,     0.72573,     0.72673,     0.72773,     0.72873,     0.72973,     0.73073,     0.73173,     0.73273,     0.73373,     0.73473,     0.73574,     0.73674,     0.73774,     0.73874,     0.73974,     0.74074,     0.74174,     0.74274,     0.74374,\n",
       "           0.74474,     0.74575,     0.74675,     0.74775,     0.74875,     0.74975,     0.75075,     0.75175,     0.75275,     0.75375,     0.75475,     0.75576,     0.75676,     0.75776,     0.75876,     0.75976,     0.76076,     0.76176,     0.76276,     0.76376,     0.76476,     0.76577,     0.76677,     0.76777,\n",
       "           0.76877,     0.76977,     0.77077,     0.77177,     0.77277,     0.77377,     0.77477,     0.77578,     0.77678,     0.77778,     0.77878,     0.77978,     0.78078,     0.78178,     0.78278,     0.78378,     0.78478,     0.78579,     0.78679,     0.78779,     0.78879,     0.78979,     0.79079,     0.79179,\n",
       "           0.79279,     0.79379,     0.79479,      0.7958,      0.7968,      0.7978,      0.7988,      0.7998,      0.8008,      0.8018,      0.8028,      0.8038,      0.8048,     0.80581,     0.80681,     0.80781,     0.80881,     0.80981,     0.81081,     0.81181,     0.81281,     0.81381,     0.81481,     0.81582,\n",
       "           0.81682,     0.81782,     0.81882,     0.81982,     0.82082,     0.82182,     0.82282,     0.82382,     0.82482,     0.82583,     0.82683,     0.82783,     0.82883,     0.82983,     0.83083,     0.83183,     0.83283,     0.83383,     0.83483,     0.83584,     0.83684,     0.83784,     0.83884,     0.83984,\n",
       "           0.84084,     0.84184,     0.84284,     0.84384,     0.84484,     0.84585,     0.84685,     0.84785,     0.84885,     0.84985,     0.85085,     0.85185,     0.85285,     0.85385,     0.85485,     0.85586,     0.85686,     0.85786,     0.85886,     0.85986,     0.86086,     0.86186,     0.86286,     0.86386,\n",
       "           0.86486,     0.86587,     0.86687,     0.86787,     0.86887,     0.86987,     0.87087,     0.87187,     0.87287,     0.87387,     0.87487,     0.87588,     0.87688,     0.87788,     0.87888,     0.87988,     0.88088,     0.88188,     0.88288,     0.88388,     0.88488,     0.88589,     0.88689,     0.88789,\n",
       "           0.88889,     0.88989,     0.89089,     0.89189,     0.89289,     0.89389,     0.89489,      0.8959,      0.8969,      0.8979,      0.8989,      0.8999,      0.9009,      0.9019,      0.9029,      0.9039,      0.9049,     0.90591,     0.90691,     0.90791,     0.90891,     0.90991,     0.91091,     0.91191,\n",
       "           0.91291,     0.91391,     0.91491,     0.91592,     0.91692,     0.91792,     0.91892,     0.91992,     0.92092,     0.92192,     0.92292,     0.92392,     0.92492,     0.92593,     0.92693,     0.92793,     0.92893,     0.92993,     0.93093,     0.93193,     0.93293,     0.93393,     0.93493,     0.93594,\n",
       "           0.93694,     0.93794,     0.93894,     0.93994,     0.94094,     0.94194,     0.94294,     0.94394,     0.94494,     0.94595,     0.94695,     0.94795,     0.94895,     0.94995,     0.95095,     0.95195,     0.95295,     0.95395,     0.95495,     0.95596,     0.95696,     0.95796,     0.95896,     0.95996,\n",
       "           0.96096,     0.96196,     0.96296,     0.96396,     0.96496,     0.96597,     0.96697,     0.96797,     0.96897,     0.96997,     0.97097,     0.97197,     0.97297,     0.97397,     0.97497,     0.97598,     0.97698,     0.97798,     0.97898,     0.97998,     0.98098,     0.98198,     0.98298,     0.98398,\n",
       "           0.98498,     0.98599,     0.98699,     0.98799,     0.98899,     0.98999,     0.99099,     0.99199,     0.99299,     0.99399,     0.99499,       0.996,       0.997,       0.998,       0.999,           1]), array([[    0.30189,     0.30189,     0.37205,     0.43299,     0.48552,     0.52477,     0.55825,     0.58717,     0.61637,     0.63768,     0.65568,     0.67207,     0.69292,     0.70195,     0.71062,     0.72028,     0.72649,     0.73318,     0.73911,     0.74659,     0.75073,     0.75504,     0.75989,\n",
       "            0.76666,     0.77172,     0.77341,     0.77919,     0.78842,     0.79834,     0.80523,      0.8069,     0.81213,     0.81828,     0.82155,     0.82151,     0.82557,     0.82967,     0.83627,     0.83778,     0.84083,     0.84737,     0.85084,      0.8519,     0.85527,     0.85642,     0.85736,\n",
       "            0.85795,     0.85854,     0.85913,      0.8625,     0.86511,     0.86678,     0.86751,     0.86824,     0.86897,     0.87022,     0.87161,     0.87555,     0.87911,     0.88088,     0.88433,     0.88507,     0.88581,      0.8889,      0.8894,     0.88991,     0.89042,     0.89093,     0.89146,\n",
       "            0.89379,     0.89506,     0.89623,     0.90203,     0.90264,     0.90325,     0.90386,     0.90466,     0.90615,     0.90706,     0.90726,     0.90746,     0.90766,     0.90785,     0.90805,     0.90825,     0.90845,     0.90864,     0.90884,     0.90904,     0.90923,     0.90943,     0.90961,\n",
       "            0.90938,     0.90915,     0.90892,     0.90869,     0.90846,     0.90823,       0.908,     0.90777,     0.90753,      0.9073,     0.90707,     0.90684,     0.90661,     0.90822,     0.91124,      0.9111,     0.91025,      0.9094,     0.90855,     0.90867,     0.90879,     0.90891,     0.90903,\n",
       "            0.90915,     0.90926,     0.90938,      0.9095,     0.90962,     0.90974,     0.90985,     0.90997,     0.91009,     0.91021,     0.91032,     0.91044,     0.91056,     0.91068,      0.9108,     0.91091,     0.91103,     0.91115,     0.91133,     0.91179,     0.91224,     0.91269,     0.91314,\n",
       "             0.9136,     0.91397,     0.91409,     0.91421,     0.91432,     0.91444,     0.91455,     0.91467,     0.91479,      0.9149,     0.91502,     0.91514,     0.91525,     0.91537,     0.91548,      0.9156,     0.91572,     0.91583,     0.91595,     0.91606,     0.91618,      0.9163,     0.91641,\n",
       "            0.91653,     0.91664,      0.9168,     0.91696,     0.91711,     0.91727,     0.91743,     0.91759,     0.91775,     0.91791,     0.91807,     0.91823,     0.91839,     0.91855,     0.91871,     0.91887,     0.91902,     0.91918,     0.91934,     0.91956,      0.9198,     0.92005,      0.9203,\n",
       "            0.92055,      0.9208,     0.92105,     0.92129,     0.92154,     0.92179,     0.92204,     0.92185,     0.92126,     0.92067,     0.92008,     0.91949,     0.91892,     0.91885,     0.91878,     0.91872,     0.91865,     0.91858,     0.91852,     0.91845,     0.91839,     0.91832,     0.91825,\n",
       "            0.91819,     0.91812,     0.91805,     0.91799,     0.91792,     0.91785,     0.91779,     0.91772,     0.91765,     0.91759,     0.91752,     0.91745,     0.91739,     0.91732,     0.91725,     0.91719,     0.91712,     0.91705,     0.91699,     0.91692,     0.91685,     0.91679,     0.91672,\n",
       "            0.91665,     0.91659,     0.91652,     0.91645,     0.91639,     0.91632,     0.91625,     0.91619,     0.91612,     0.91605,     0.91599,     0.91592,     0.91585,     0.91579,     0.91572,     0.91582,     0.91709,     0.91834,     0.92037,     0.92226,     0.92401,      0.9242,     0.92439,\n",
       "            0.92458,     0.92477,     0.92496,     0.92515,     0.92534,     0.92553,     0.92572,     0.92591,      0.9261,     0.92629,     0.92648,     0.92666,     0.92684,     0.92689,     0.92695,     0.92701,     0.92707,     0.92712,     0.92718,     0.92724,     0.92729,     0.92735,     0.92741,\n",
       "            0.92746,     0.92752,     0.92758,     0.92764,     0.92769,     0.92775,     0.92781,     0.92786,     0.92792,     0.92798,     0.92803,     0.92809,     0.92815,     0.92821,     0.92826,     0.92832,     0.92838,     0.92843,     0.92849,     0.92855,      0.9286,     0.92866,     0.92872,\n",
       "            0.92878,     0.92883,     0.92889,     0.92895,       0.929,     0.92906,     0.92912,     0.92917,     0.92923,     0.92929,     0.92934,      0.9294,     0.92946,     0.92951,     0.92957,     0.92963,     0.92957,     0.92933,     0.92909,     0.92885,     0.92861,     0.92837,     0.92813,\n",
       "            0.92789,     0.92765,     0.92741,     0.92717,     0.92693,     0.92669,     0.92645,     0.92653,     0.92673,     0.92694,     0.92714,     0.92735,     0.92755,     0.92776,     0.92796,     0.92817,     0.92837,     0.92858,     0.92878,     0.92899,     0.92919,     0.92889,     0.92846,\n",
       "            0.92804,     0.92762,     0.92719,     0.92677,     0.92635,     0.92592,      0.9252,     0.92449,     0.92377,     0.92305,     0.92271,     0.92301,      0.9233,     0.92359,     0.92389,     0.92418,     0.92447,     0.92477,     0.92506,     0.92535,      0.9282,     0.92795,     0.92771,\n",
       "            0.92746,     0.92722,     0.92697,     0.92673,     0.92648,     0.92624,     0.92599,     0.92575,      0.9255,     0.92526,     0.92501,     0.92334,     0.92167,     0.92433,     0.92359,     0.92286,     0.92213,      0.9214,     0.92119,     0.92126,     0.92134,     0.92142,      0.9215,\n",
       "            0.92157,     0.92165,     0.92173,     0.92181,     0.92189,     0.92196,     0.92204,     0.92212,      0.9222,     0.92227,     0.92235,     0.92243,     0.92251,     0.92258,     0.92266,     0.92274,     0.92282,      0.9229,     0.92297,     0.92305,     0.92313,     0.92321,     0.92328,\n",
       "            0.92336,     0.92344,     0.92352,     0.92359,     0.92367,     0.92375,     0.92382,      0.9239,     0.92398,     0.92404,     0.92396,     0.92388,      0.9238,     0.92372,     0.92363,     0.92355,     0.92347,     0.92339,      0.9233,     0.92322,     0.92314,     0.92306,     0.92297,\n",
       "            0.92289,     0.92281,     0.92273,     0.92265,     0.92256,     0.92248,      0.9224,     0.92232,     0.92223,     0.92215,     0.92207,     0.92199,      0.9219,     0.92182,     0.92174,     0.92166,     0.92157,     0.92149,     0.92141,     0.92133,     0.92124,     0.92116,     0.92108,\n",
       "              0.921,     0.92091,     0.92083,     0.92075,     0.92067,     0.91954,     0.91778,     0.91729,     0.91742,     0.91755,     0.91768,     0.91781,     0.91794,     0.91807,      0.9182,     0.91833,     0.91846,     0.91859,     0.91872,     0.91885,     0.91898,     0.91912,     0.91925,\n",
       "            0.91938,     0.91951,     0.91964,     0.91977,      0.9199,     0.92003,     0.91661,     0.91637,     0.91614,      0.9159,     0.91566,     0.91542,     0.91519,     0.91495,     0.91471,     0.91447,     0.91423,     0.91399,     0.91376,     0.91352,     0.91328,     0.91312,     0.91301,\n",
       "            0.91291,      0.9128,      0.9127,     0.91259,     0.91249,     0.91238,     0.91228,     0.91217,     0.91207,     0.91196,     0.91185,     0.91175,     0.91164,     0.91154,     0.91143,     0.91133,     0.91122,     0.91111,     0.91101,      0.9109,      0.9108,     0.91069,     0.91059,\n",
       "            0.91048,     0.91037,     0.91027,     0.91016,     0.91006,     0.90995,     0.90984,     0.90974,     0.91097,     0.91255,     0.91239,     0.91223,     0.91207,     0.91191,     0.91175,     0.91159,     0.91143,     0.91126,      0.9111,     0.91094,     0.91078,     0.91062,     0.91046,\n",
       "             0.9103,     0.91014,     0.90998,     0.90982,     0.90965,     0.90949,     0.90933,     0.90917,     0.90879,     0.90818,     0.90757,     0.90697,     0.90636,     0.90575,     0.90563,     0.90578,     0.90593,     0.90608,     0.90623,     0.90638,     0.90652,     0.90667,     0.90682,\n",
       "            0.90697,     0.90712,     0.90726,     0.90741,     0.90756,     0.90771,     0.90785,       0.908,     0.90815,      0.9083,     0.90844,     0.90875,     0.90913,     0.90951,     0.90989,     0.91027,     0.91065,     0.91104,     0.91142,     0.91115,     0.91076,     0.91038,     0.90999,\n",
       "            0.90961,     0.90922,     0.90883,     0.90845,     0.90806,     0.90785,     0.90778,      0.9077,     0.90762,     0.90755,     0.90747,      0.9074,     0.90732,     0.90724,     0.90717,     0.90709,     0.90701,     0.90694,     0.90686,     0.90679,     0.90671,     0.90663,     0.90656,\n",
       "            0.90648,     0.90641,     0.90633,     0.90625,     0.90618,      0.9061,     0.90603,     0.90595,     0.90587,      0.9058,     0.90572,     0.90564,     0.90557,     0.90549,     0.90542,     0.90534,     0.90526,     0.90519,     0.90511,     0.90503,     0.90496,     0.90488,     0.90481,\n",
       "            0.90473,     0.90465,     0.90458,      0.9045,     0.90442,     0.90435,     0.90434,     0.90454,     0.90474,     0.90494,     0.90514,     0.90533,     0.90553,     0.90573,     0.90593,     0.90613,     0.90632,     0.90652,     0.90672,     0.90692,     0.90711,     0.90677,      0.9036,\n",
       "            0.90326,     0.90292,     0.90258,     0.90224,      0.9019,     0.90156,     0.90122,     0.90088,     0.90054,     0.90019,     0.89977,     0.89923,     0.89869,     0.89815,     0.89762,     0.89708,     0.89654,     0.89725,     0.89879,       0.899,     0.89849,     0.89799,     0.89748,\n",
       "            0.89698,     0.89647,     0.89596,     0.89604,     0.89728,     0.89852,     0.89522,     0.89421,     0.89344,     0.89267,      0.8919,     0.89105,     0.88847,     0.88673,     0.88561,      0.8845,     0.88361,     0.88388,     0.88415,     0.88442,     0.88469,     0.88496,     0.88523,\n",
       "             0.8855,     0.88577,     0.88604,     0.88631,     0.88658,     0.88603,     0.88542,     0.88482,     0.88421,     0.88361,       0.883,     0.88246,     0.88197,     0.88147,     0.88098,     0.88048,     0.87999,     0.87949,     0.87899,     0.87677,     0.87018,     0.86748,     0.86595,\n",
       "            0.86459,     0.86323,     0.86187,      0.8605,     0.85911,     0.85635,     0.85397,     0.85189,     0.85015,      0.8514,     0.85264,     0.85114,      0.8488,     0.84823,     0.84767,      0.8471,     0.84653,     0.84596,     0.84539,     0.84482,     0.84323,     0.84151,      0.8357,\n",
       "            0.83425,      0.8328,     0.82628,     0.82346,     0.82248,     0.82149,      0.8205,     0.81951,     0.81717,     0.81464,     0.81382,       0.813,     0.81218,     0.81136,     0.81053,     0.80784,     0.80572,     0.80507,     0.80441,     0.80376,      0.8031,     0.80245,     0.80179,\n",
       "            0.79441,     0.78606,      0.7829,     0.77973,     0.77815,     0.77741,     0.77667,     0.77593,      0.7752,     0.77446,     0.77319,     0.77078,     0.76572,     0.75891,     0.75801,     0.75711,     0.75621,     0.75531,     0.75414,     0.75272,      0.7513,     0.74981,     0.74781,\n",
       "             0.7458,     0.73794,     0.73479,     0.73273,     0.73067,     0.72905,     0.72757,     0.72609,     0.72158,     0.71358,     0.71004,     0.70487,     0.69718,     0.69501,     0.69123,     0.68712,     0.68436,     0.67753,     0.67529,     0.67303,     0.66863,     0.66517,     0.66289,\n",
       "            0.66047,     0.65759,     0.64935,     0.64768,       0.646,     0.64432,     0.64156,      0.6386,     0.61997,     0.61823,     0.61648,     0.61473,     0.60182,     0.60026,     0.59869,     0.59711,     0.59266,     0.58763,       0.583,     0.57654,      0.5636,     0.55096,     0.54646,\n",
       "            0.53842,     0.53705,     0.53568,      0.5343,     0.53292,     0.52927,     0.52494,     0.52401,     0.52308,     0.52215,     0.52121,     0.52028,     0.51934,     0.51139,     0.50936,     0.50732,     0.50528,     0.48928,     0.48745,     0.48562,     0.48378,     0.47567,     0.47402,\n",
       "            0.47236,     0.47069,     0.46903,     0.46193,     0.45432,     0.42754,     0.41958,     0.40785,     0.40553,      0.4032,     0.40086,     0.38671,     0.38201,     0.37921,      0.3764,     0.36945,     0.35668,     0.34544,     0.34079,     0.33932,     0.33785,     0.33637,     0.33489,\n",
       "            0.33341,     0.33122,     0.32899,     0.32675,     0.32433,     0.31831,     0.30513,     0.27912,     0.27531,     0.27149,     0.26372,     0.23976,     0.23692,     0.23407,     0.22621,     0.21137,     0.20844,     0.20549,     0.20254,     0.19288,     0.19015,     0.18805,     0.18595,\n",
       "            0.18383,     0.18082,     0.16743,     0.15988,     0.14941,     0.14207,     0.13222,     0.10988,     0.10326,    0.098641,    0.089021,    0.074629,    0.071014,    0.069423,     0.06783,    0.066234,    0.064636,    0.063035,    0.061431,     0.05914,    0.056119,    0.053088,    0.050048,\n",
       "           0.045928,    0.041023,    0.035616,     0.02734,           0,           0,           0,           0,           0,           0,           0,           0,           0,           0,           0,           0,           0,           0,           0,           0,           0,           0,           0,\n",
       "                  0,           0,           0,           0,           0,           0,           0,           0,           0,           0,           0,           0,           0,           0,           0,           0,           0,           0,           0,           0,           0,           0,           0,\n",
       "                  0,           0,           0,           0,           0,           0,           0,           0,           0,           0,           0]]), 'Confidence', 'F1'], [array([          0,    0.001001,    0.002002,    0.003003,    0.004004,    0.005005,    0.006006,    0.007007,    0.008008,    0.009009,     0.01001,    0.011011,    0.012012,    0.013013,    0.014014,    0.015015,    0.016016,    0.017017,    0.018018,    0.019019,     0.02002,    0.021021,    0.022022,    0.023023,\n",
       "          0.024024,    0.025025,    0.026026,    0.027027,    0.028028,    0.029029,     0.03003,    0.031031,    0.032032,    0.033033,    0.034034,    0.035035,    0.036036,    0.037037,    0.038038,    0.039039,     0.04004,    0.041041,    0.042042,    0.043043,    0.044044,    0.045045,    0.046046,    0.047047,\n",
       "          0.048048,    0.049049,     0.05005,    0.051051,    0.052052,    0.053053,    0.054054,    0.055055,    0.056056,    0.057057,    0.058058,    0.059059,     0.06006,    0.061061,    0.062062,    0.063063,    0.064064,    0.065065,    0.066066,    0.067067,    0.068068,    0.069069,     0.07007,    0.071071,\n",
       "          0.072072,    0.073073,    0.074074,    0.075075,    0.076076,    0.077077,    0.078078,    0.079079,     0.08008,    0.081081,    0.082082,    0.083083,    0.084084,    0.085085,    0.086086,    0.087087,    0.088088,    0.089089,     0.09009,    0.091091,    0.092092,    0.093093,    0.094094,    0.095095,\n",
       "          0.096096,    0.097097,    0.098098,    0.099099,      0.1001,      0.1011,      0.1021,      0.1031,      0.1041,     0.10511,     0.10611,     0.10711,     0.10811,     0.10911,     0.11011,     0.11111,     0.11211,     0.11311,     0.11411,     0.11512,     0.11612,     0.11712,     0.11812,     0.11912,\n",
       "           0.12012,     0.12112,     0.12212,     0.12312,     0.12412,     0.12513,     0.12613,     0.12713,     0.12813,     0.12913,     0.13013,     0.13113,     0.13213,     0.13313,     0.13413,     0.13514,     0.13614,     0.13714,     0.13814,     0.13914,     0.14014,     0.14114,     0.14214,     0.14314,\n",
       "           0.14414,     0.14515,     0.14615,     0.14715,     0.14815,     0.14915,     0.15015,     0.15115,     0.15215,     0.15315,     0.15415,     0.15516,     0.15616,     0.15716,     0.15816,     0.15916,     0.16016,     0.16116,     0.16216,     0.16316,     0.16416,     0.16517,     0.16617,     0.16717,\n",
       "           0.16817,     0.16917,     0.17017,     0.17117,     0.17217,     0.17317,     0.17417,     0.17518,     0.17618,     0.17718,     0.17818,     0.17918,     0.18018,     0.18118,     0.18218,     0.18318,     0.18418,     0.18519,     0.18619,     0.18719,     0.18819,     0.18919,     0.19019,     0.19119,\n",
       "           0.19219,     0.19319,     0.19419,      0.1952,      0.1962,      0.1972,      0.1982,      0.1992,      0.2002,      0.2012,      0.2022,      0.2032,      0.2042,     0.20521,     0.20621,     0.20721,     0.20821,     0.20921,     0.21021,     0.21121,     0.21221,     0.21321,     0.21421,     0.21522,\n",
       "           0.21622,     0.21722,     0.21822,     0.21922,     0.22022,     0.22122,     0.22222,     0.22322,     0.22422,     0.22523,     0.22623,     0.22723,     0.22823,     0.22923,     0.23023,     0.23123,     0.23223,     0.23323,     0.23423,     0.23524,     0.23624,     0.23724,     0.23824,     0.23924,\n",
       "           0.24024,     0.24124,     0.24224,     0.24324,     0.24424,     0.24525,     0.24625,     0.24725,     0.24825,     0.24925,     0.25025,     0.25125,     0.25225,     0.25325,     0.25425,     0.25526,     0.25626,     0.25726,     0.25826,     0.25926,     0.26026,     0.26126,     0.26226,     0.26326,\n",
       "           0.26426,     0.26527,     0.26627,     0.26727,     0.26827,     0.26927,     0.27027,     0.27127,     0.27227,     0.27327,     0.27427,     0.27528,     0.27628,     0.27728,     0.27828,     0.27928,     0.28028,     0.28128,     0.28228,     0.28328,     0.28428,     0.28529,     0.28629,     0.28729,\n",
       "           0.28829,     0.28929,     0.29029,     0.29129,     0.29229,     0.29329,     0.29429,      0.2953,      0.2963,      0.2973,      0.2983,      0.2993,      0.3003,      0.3013,      0.3023,      0.3033,      0.3043,     0.30531,     0.30631,     0.30731,     0.30831,     0.30931,     0.31031,     0.31131,\n",
       "           0.31231,     0.31331,     0.31431,     0.31532,     0.31632,     0.31732,     0.31832,     0.31932,     0.32032,     0.32132,     0.32232,     0.32332,     0.32432,     0.32533,     0.32633,     0.32733,     0.32833,     0.32933,     0.33033,     0.33133,     0.33233,     0.33333,     0.33433,     0.33534,\n",
       "           0.33634,     0.33734,     0.33834,     0.33934,     0.34034,     0.34134,     0.34234,     0.34334,     0.34434,     0.34535,     0.34635,     0.34735,     0.34835,     0.34935,     0.35035,     0.35135,     0.35235,     0.35335,     0.35435,     0.35536,     0.35636,     0.35736,     0.35836,     0.35936,\n",
       "           0.36036,     0.36136,     0.36236,     0.36336,     0.36436,     0.36537,     0.36637,     0.36737,     0.36837,     0.36937,     0.37037,     0.37137,     0.37237,     0.37337,     0.37437,     0.37538,     0.37638,     0.37738,     0.37838,     0.37938,     0.38038,     0.38138,     0.38238,     0.38338,\n",
       "           0.38438,     0.38539,     0.38639,     0.38739,     0.38839,     0.38939,     0.39039,     0.39139,     0.39239,     0.39339,     0.39439,      0.3954,      0.3964,      0.3974,      0.3984,      0.3994,      0.4004,      0.4014,      0.4024,      0.4034,      0.4044,     0.40541,     0.40641,     0.40741,\n",
       "           0.40841,     0.40941,     0.41041,     0.41141,     0.41241,     0.41341,     0.41441,     0.41542,     0.41642,     0.41742,     0.41842,     0.41942,     0.42042,     0.42142,     0.42242,     0.42342,     0.42442,     0.42543,     0.42643,     0.42743,     0.42843,     0.42943,     0.43043,     0.43143,\n",
       "           0.43243,     0.43343,     0.43443,     0.43544,     0.43644,     0.43744,     0.43844,     0.43944,     0.44044,     0.44144,     0.44244,     0.44344,     0.44444,     0.44545,     0.44645,     0.44745,     0.44845,     0.44945,     0.45045,     0.45145,     0.45245,     0.45345,     0.45445,     0.45546,\n",
       "           0.45646,     0.45746,     0.45846,     0.45946,     0.46046,     0.46146,     0.46246,     0.46346,     0.46446,     0.46547,     0.46647,     0.46747,     0.46847,     0.46947,     0.47047,     0.47147,     0.47247,     0.47347,     0.47447,     0.47548,     0.47648,     0.47748,     0.47848,     0.47948,\n",
       "           0.48048,     0.48148,     0.48248,     0.48348,     0.48448,     0.48549,     0.48649,     0.48749,     0.48849,     0.48949,     0.49049,     0.49149,     0.49249,     0.49349,     0.49449,      0.4955,      0.4965,      0.4975,      0.4985,      0.4995,      0.5005,      0.5015,      0.5025,      0.5035,\n",
       "            0.5045,     0.50551,     0.50651,     0.50751,     0.50851,     0.50951,     0.51051,     0.51151,     0.51251,     0.51351,     0.51451,     0.51552,     0.51652,     0.51752,     0.51852,     0.51952,     0.52052,     0.52152,     0.52252,     0.52352,     0.52452,     0.52553,     0.52653,     0.52753,\n",
       "           0.52853,     0.52953,     0.53053,     0.53153,     0.53253,     0.53353,     0.53453,     0.53554,     0.53654,     0.53754,     0.53854,     0.53954,     0.54054,     0.54154,     0.54254,     0.54354,     0.54454,     0.54555,     0.54655,     0.54755,     0.54855,     0.54955,     0.55055,     0.55155,\n",
       "           0.55255,     0.55355,     0.55455,     0.55556,     0.55656,     0.55756,     0.55856,     0.55956,     0.56056,     0.56156,     0.56256,     0.56356,     0.56456,     0.56557,     0.56657,     0.56757,     0.56857,     0.56957,     0.57057,     0.57157,     0.57257,     0.57357,     0.57457,     0.57558,\n",
       "           0.57658,     0.57758,     0.57858,     0.57958,     0.58058,     0.58158,     0.58258,     0.58358,     0.58458,     0.58559,     0.58659,     0.58759,     0.58859,     0.58959,     0.59059,     0.59159,     0.59259,     0.59359,     0.59459,      0.5956,      0.5966,      0.5976,      0.5986,      0.5996,\n",
       "            0.6006,      0.6016,      0.6026,      0.6036,      0.6046,     0.60561,     0.60661,     0.60761,     0.60861,     0.60961,     0.61061,     0.61161,     0.61261,     0.61361,     0.61461,     0.61562,     0.61662,     0.61762,     0.61862,     0.61962,     0.62062,     0.62162,     0.62262,     0.62362,\n",
       "           0.62462,     0.62563,     0.62663,     0.62763,     0.62863,     0.62963,     0.63063,     0.63163,     0.63263,     0.63363,     0.63463,     0.63564,     0.63664,     0.63764,     0.63864,     0.63964,     0.64064,     0.64164,     0.64264,     0.64364,     0.64464,     0.64565,     0.64665,     0.64765,\n",
       "           0.64865,     0.64965,     0.65065,     0.65165,     0.65265,     0.65365,     0.65465,     0.65566,     0.65666,     0.65766,     0.65866,     0.65966,     0.66066,     0.66166,     0.66266,     0.66366,     0.66466,     0.66567,     0.66667,     0.66767,     0.66867,     0.66967,     0.67067,     0.67167,\n",
       "           0.67267,     0.67367,     0.67467,     0.67568,     0.67668,     0.67768,     0.67868,     0.67968,     0.68068,     0.68168,     0.68268,     0.68368,     0.68468,     0.68569,     0.68669,     0.68769,     0.68869,     0.68969,     0.69069,     0.69169,     0.69269,     0.69369,     0.69469,      0.6957,\n",
       "            0.6967,      0.6977,      0.6987,      0.6997,      0.7007,      0.7017,      0.7027,      0.7037,      0.7047,     0.70571,     0.70671,     0.70771,     0.70871,     0.70971,     0.71071,     0.71171,     0.71271,     0.71371,     0.71471,     0.71572,     0.71672,     0.71772,     0.71872,     0.71972,\n",
       "           0.72072,     0.72172,     0.72272,     0.72372,     0.72472,     0.72573,     0.72673,     0.72773,     0.72873,     0.72973,     0.73073,     0.73173,     0.73273,     0.73373,     0.73473,     0.73574,     0.73674,     0.73774,     0.73874,     0.73974,     0.74074,     0.74174,     0.74274,     0.74374,\n",
       "           0.74474,     0.74575,     0.74675,     0.74775,     0.74875,     0.74975,     0.75075,     0.75175,     0.75275,     0.75375,     0.75475,     0.75576,     0.75676,     0.75776,     0.75876,     0.75976,     0.76076,     0.76176,     0.76276,     0.76376,     0.76476,     0.76577,     0.76677,     0.76777,\n",
       "           0.76877,     0.76977,     0.77077,     0.77177,     0.77277,     0.77377,     0.77477,     0.77578,     0.77678,     0.77778,     0.77878,     0.77978,     0.78078,     0.78178,     0.78278,     0.78378,     0.78478,     0.78579,     0.78679,     0.78779,     0.78879,     0.78979,     0.79079,     0.79179,\n",
       "           0.79279,     0.79379,     0.79479,      0.7958,      0.7968,      0.7978,      0.7988,      0.7998,      0.8008,      0.8018,      0.8028,      0.8038,      0.8048,     0.80581,     0.80681,     0.80781,     0.80881,     0.80981,     0.81081,     0.81181,     0.81281,     0.81381,     0.81481,     0.81582,\n",
       "           0.81682,     0.81782,     0.81882,     0.81982,     0.82082,     0.82182,     0.82282,     0.82382,     0.82482,     0.82583,     0.82683,     0.82783,     0.82883,     0.82983,     0.83083,     0.83183,     0.83283,     0.83383,     0.83483,     0.83584,     0.83684,     0.83784,     0.83884,     0.83984,\n",
       "           0.84084,     0.84184,     0.84284,     0.84384,     0.84484,     0.84585,     0.84685,     0.84785,     0.84885,     0.84985,     0.85085,     0.85185,     0.85285,     0.85385,     0.85485,     0.85586,     0.85686,     0.85786,     0.85886,     0.85986,     0.86086,     0.86186,     0.86286,     0.86386,\n",
       "           0.86486,     0.86587,     0.86687,     0.86787,     0.86887,     0.86987,     0.87087,     0.87187,     0.87287,     0.87387,     0.87487,     0.87588,     0.87688,     0.87788,     0.87888,     0.87988,     0.88088,     0.88188,     0.88288,     0.88388,     0.88488,     0.88589,     0.88689,     0.88789,\n",
       "           0.88889,     0.88989,     0.89089,     0.89189,     0.89289,     0.89389,     0.89489,      0.8959,      0.8969,      0.8979,      0.8989,      0.8999,      0.9009,      0.9019,      0.9029,      0.9039,      0.9049,     0.90591,     0.90691,     0.90791,     0.90891,     0.90991,     0.91091,     0.91191,\n",
       "           0.91291,     0.91391,     0.91491,     0.91592,     0.91692,     0.91792,     0.91892,     0.91992,     0.92092,     0.92192,     0.92292,     0.92392,     0.92492,     0.92593,     0.92693,     0.92793,     0.92893,     0.92993,     0.93093,     0.93193,     0.93293,     0.93393,     0.93493,     0.93594,\n",
       "           0.93694,     0.93794,     0.93894,     0.93994,     0.94094,     0.94194,     0.94294,     0.94394,     0.94494,     0.94595,     0.94695,     0.94795,     0.94895,     0.94995,     0.95095,     0.95195,     0.95295,     0.95395,     0.95495,     0.95596,     0.95696,     0.95796,     0.95896,     0.95996,\n",
       "           0.96096,     0.96196,     0.96296,     0.96396,     0.96496,     0.96597,     0.96697,     0.96797,     0.96897,     0.96997,     0.97097,     0.97197,     0.97297,     0.97397,     0.97497,     0.97598,     0.97698,     0.97798,     0.97898,     0.97998,     0.98098,     0.98198,     0.98298,     0.98398,\n",
       "           0.98498,     0.98599,     0.98699,     0.98799,     0.98899,     0.98999,     0.99099,     0.99199,     0.99299,     0.99399,     0.99499,       0.996,       0.997,       0.998,       0.999,           1]), array([[    0.17778,     0.17778,     0.22854,     0.27632,     0.32058,     0.35572,     0.38814,     0.41669,     0.44673,     0.46946,     0.48924,     0.50772,      0.5319,     0.54261,     0.55305,     0.56484,     0.57252,     0.58087,     0.58835,     0.59788,     0.60321,      0.6088,     0.61513,\n",
       "            0.62406,     0.63078,     0.63304,     0.64083,     0.65341,     0.66715,     0.67683,      0.6792,     0.68664,     0.69548,     0.70256,     0.70929,     0.71586,     0.72205,     0.73209,     0.73442,     0.73911,     0.74929,     0.75473,      0.7564,     0.76172,     0.76355,     0.76505,\n",
       "              0.766,     0.76694,     0.76788,     0.77328,     0.77748,     0.78018,     0.78137,     0.78256,     0.78375,     0.78577,     0.78805,      0.7945,      0.8004,     0.80334,     0.80909,     0.81033,     0.81158,     0.81677,     0.81763,     0.81849,     0.81935,      0.8202,     0.82111,\n",
       "            0.82507,     0.82723,     0.82923,     0.83922,     0.84028,     0.84134,      0.8424,     0.84379,     0.84638,     0.84798,     0.84832,     0.84867,     0.84901,     0.84936,     0.84971,     0.85005,      0.8504,     0.85074,     0.85109,     0.85143,     0.85178,     0.85212,     0.85246,\n",
       "             0.8524,     0.85234,     0.85228,     0.85222,     0.85216,      0.8521,     0.85205,     0.85199,     0.85193,     0.85187,     0.85181,     0.85175,     0.85169,     0.85482,     0.86017,     0.86095,     0.86075,     0.86054,     0.86034,     0.86055,     0.86076,     0.86097,     0.86118,\n",
       "             0.8614,     0.86161,     0.86182,     0.86203,     0.86224,     0.86246,     0.86267,     0.86288,     0.86309,      0.8633,     0.86351,     0.86373,     0.86394,     0.86415,     0.86436,     0.86457,     0.86479,       0.865,     0.86533,     0.86615,     0.86697,     0.86778,      0.8686,\n",
       "            0.86942,      0.8701,     0.87031,     0.87053,     0.87074,     0.87095,     0.87116,     0.87137,     0.87158,     0.87179,       0.872,     0.87221,     0.87243,     0.87264,     0.87285,     0.87306,     0.87327,     0.87348,     0.87369,      0.8739,     0.87412,     0.87433,     0.87454,\n",
       "            0.87475,     0.87496,     0.87524,     0.87553,     0.87582,     0.87611,      0.8764,     0.87669,     0.87698,     0.87727,     0.87756,     0.87785,     0.87814,     0.87843,     0.87872,     0.87902,     0.87931,      0.8796,     0.87989,     0.88028,     0.88074,     0.88119,     0.88165,\n",
       "             0.8821,     0.88256,     0.88301,     0.88347,     0.88393,     0.88438,     0.88484,     0.88499,     0.88487,     0.88475,     0.88463,     0.88451,     0.88439,     0.88438,     0.88437,     0.88435,     0.88434,     0.88432,     0.88431,      0.8843,     0.88428,     0.88427,     0.88426,\n",
       "            0.88424,     0.88423,     0.88421,      0.8842,     0.88419,     0.88417,     0.88416,     0.88415,     0.88413,     0.88412,      0.8841,     0.88409,     0.88408,     0.88406,     0.88405,     0.88404,     0.88402,     0.88401,     0.88399,     0.88398,     0.88397,     0.88395,     0.88394,\n",
       "            0.88393,     0.88391,      0.8839,     0.88388,     0.88387,     0.88386,     0.88384,     0.88383,     0.88382,      0.8838,     0.88379,     0.88377,     0.88376,     0.88375,     0.88373,     0.88402,     0.88638,     0.88873,     0.89253,     0.89609,     0.89941,     0.89977,     0.90013,\n",
       "            0.90049,     0.90085,     0.90121,     0.90157,     0.90193,     0.90229,     0.90265,     0.90301,     0.90337,     0.90373,     0.90409,     0.90445,     0.90478,     0.90488,     0.90499,      0.9051,     0.90521,     0.90532,     0.90543,     0.90554,     0.90565,     0.90576,     0.90586,\n",
       "            0.90597,     0.90608,     0.90619,      0.9063,     0.90641,     0.90652,     0.90663,     0.90674,     0.90684,     0.90695,     0.90706,     0.90717,     0.90728,     0.90739,      0.9075,     0.90761,     0.90772,     0.90782,     0.90793,     0.90804,     0.90815,     0.90826,     0.90837,\n",
       "            0.90848,     0.90859,      0.9087,      0.9088,     0.90891,     0.90902,     0.90913,     0.90924,     0.90935,     0.90946,     0.90957,     0.90968,     0.90978,     0.90989,        0.91,     0.91011,     0.91016,     0.91013,     0.91009,     0.91005,     0.91001,     0.90997,     0.90993,\n",
       "            0.90989,     0.90985,     0.90981,     0.90977,     0.90973,     0.90969,     0.90965,     0.90992,     0.91032,     0.91072,     0.91111,     0.91151,     0.91191,      0.9123,      0.9127,     0.91309,     0.91349,     0.91389,     0.91428,     0.91468,     0.91508,      0.9151,     0.91503,\n",
       "            0.91497,      0.9149,     0.91483,     0.91477,      0.9147,     0.91463,     0.91452,     0.91441,     0.91429,     0.91418,     0.91433,     0.91491,     0.91548,     0.91606,     0.91664,     0.91722,      0.9178,     0.91838,     0.91895,     0.91953,     0.92544,     0.92541,     0.92538,\n",
       "            0.92534,     0.92531,     0.92527,     0.92524,     0.92521,     0.92517,     0.92514,      0.9251,     0.92507,     0.92504,       0.925,     0.92477,      0.9246,     0.93035,     0.93026,     0.93016,     0.93007,     0.92997,     0.93004,      0.9302,     0.93036,     0.93051,     0.93067,\n",
       "            0.93083,     0.93099,     0.93115,     0.93131,     0.93147,     0.93163,     0.93178,     0.93194,      0.9321,     0.93226,     0.93242,     0.93258,     0.93274,      0.9329,     0.93305,     0.93321,     0.93337,     0.93353,     0.93369,     0.93385,     0.93401,     0.93416,     0.93432,\n",
       "            0.93448,     0.93464,      0.9348,     0.93496,     0.93512,     0.93528,     0.93543,     0.93559,     0.93575,      0.9359,     0.93589,     0.93588,     0.93587,     0.93586,     0.93585,     0.93584,     0.93583,     0.93582,     0.93581,      0.9358,     0.93579,     0.93578,     0.93577,\n",
       "            0.93576,     0.93575,     0.93574,     0.93573,     0.93572,     0.93571,      0.9357,     0.93569,     0.93568,     0.93567,     0.93566,     0.93565,     0.93564,     0.93563,     0.93562,     0.93561,      0.9356,     0.93559,     0.93558,     0.93557,     0.93556,     0.93555,     0.93554,\n",
       "            0.93553,     0.93552,     0.93551,      0.9355,     0.93549,     0.93535,     0.93514,     0.93525,     0.93552,     0.93579,     0.93606,     0.93634,     0.93661,     0.93688,     0.93715,     0.93743,      0.9377,     0.93797,     0.93824,     0.93852,     0.93879,     0.93906,     0.93933,\n",
       "            0.93961,     0.93988,     0.94015,     0.94042,     0.94069,     0.94097,     0.94078,     0.94076,     0.94073,      0.9407,     0.94068,     0.94065,     0.94062,      0.9406,     0.94057,     0.94054,     0.94052,     0.94049,     0.94046,     0.94043,     0.94041,     0.94039,     0.94038,\n",
       "            0.94037,     0.94035,     0.94034,     0.94033,     0.94032,     0.94031,     0.94029,     0.94028,     0.94027,     0.94026,     0.94025,     0.94023,     0.94022,     0.94021,      0.9402,     0.94019,     0.94017,     0.94016,     0.94015,     0.94014,     0.94013,     0.94011,      0.9401,\n",
       "            0.94009,     0.94008,     0.94007,     0.94005,     0.94004,     0.94003,     0.94002,     0.94001,     0.94277,      0.9463,     0.94628,     0.94627,     0.94625,     0.94624,     0.94622,      0.9462,     0.94619,     0.94617,     0.94615,     0.94614,     0.94612,      0.9461,     0.94609,\n",
       "            0.94607,     0.94605,     0.94604,     0.94602,       0.946,     0.94599,     0.94597,     0.94595,     0.94591,     0.94585,     0.94579,     0.94573,     0.94566,      0.9456,     0.94579,     0.94611,     0.94644,     0.94676,     0.94708,     0.94741,     0.94773,     0.94805,     0.94838,\n",
       "             0.9487,     0.94903,     0.94935,     0.94967,        0.95,     0.95032,     0.95065,     0.95097,     0.95129,     0.95162,     0.95194,      0.9526,     0.95344,     0.95428,     0.95512,     0.95597,     0.95681,     0.95765,     0.95849,     0.95859,     0.95856,     0.95853,      0.9585,\n",
       "            0.95847,     0.95844,     0.95841,     0.95838,     0.95835,     0.95833,     0.95832,     0.95832,     0.95831,     0.95831,      0.9583,     0.95829,     0.95829,     0.95828,     0.95827,     0.95827,     0.95826,     0.95826,     0.95825,     0.95824,     0.95824,     0.95823,     0.95823,\n",
       "            0.95822,     0.95821,     0.95821,      0.9582,     0.95819,     0.95819,     0.95818,     0.95818,     0.95817,     0.95816,     0.95816,     0.95815,     0.95815,     0.95814,     0.95813,     0.95813,     0.95812,     0.95811,     0.95811,      0.9581,      0.9581,     0.95809,     0.95808,\n",
       "            0.95808,     0.95807,     0.95806,     0.95806,     0.95805,     0.95805,     0.95816,      0.9586,     0.95905,      0.9595,     0.95994,     0.96039,     0.96083,     0.96128,     0.96173,     0.96217,     0.96262,     0.96307,     0.96351,     0.96396,      0.9644,     0.96475,     0.96454,\n",
       "            0.96451,     0.96449,     0.96446,     0.96444,     0.96442,     0.96439,     0.96437,     0.96435,     0.96432,      0.9643,     0.96427,     0.96423,     0.96419,     0.96416,     0.96412,     0.96408,     0.96404,     0.96618,     0.96976,       0.971,     0.97097,     0.97094,     0.97091,\n",
       "            0.97088,     0.97085,     0.97082,     0.97178,     0.97471,     0.97763,     0.97779,     0.97775,     0.97771,     0.97768,     0.97764,     0.97761,     0.97749,     0.97741,     0.97736,     0.97731,     0.97738,     0.97805,     0.97871,     0.97938,     0.98004,     0.98071,     0.98137,\n",
       "            0.98204,      0.9827,     0.98337,     0.98403,      0.9847,     0.98472,      0.9847,     0.98468,     0.98466,     0.98464,     0.98462,     0.98461,     0.98459,     0.98458,     0.98456,     0.98455,     0.98453,     0.98451,      0.9845,     0.98443,     0.98422,     0.98414,     0.98409,\n",
       "            0.98405,       0.984,     0.98396,     0.98391,     0.98387,     0.98378,      0.9837,     0.98363,     0.99206,     0.99548,      0.9989,           1,           1,           1,           1,           1,           1,           1,           1,           1,           1,           1,           1,\n",
       "                  1,           1,           1,           1,           1,           1,           1,           1,           1,           1,           1,           1,           1,           1,           1,           1,           1,           1,           1,           1,           1,           1,           1,\n",
       "                  1,           1,           1,           1,           1,           1,           1,           1,           1,           1,           1,           1,           1,           1,           1,           1,           1,           1,           1,           1,           1,           1,           1,\n",
       "                  1,           1,           1,           1,           1,           1,           1,           1,           1,           1,           1,           1,           1,           1,           1,           1,           1,           1,           1,           1,           1,           1,           1,\n",
       "                  1,           1,           1,           1,           1,           1,           1,           1,           1,           1,           1,           1,           1,           1,           1,           1,           1,           1,           1,           1,           1,           1,           1,\n",
       "                  1,           1,           1,           1,           1,           1,           1,           1,           1,           1,           1,           1,           1,           1,           1,           1,           1,           1,           1,           1,           1,           1,           1,\n",
       "                  1,           1,           1,           1,           1,           1,           1,           1,           1,           1,           1,           1,           1,           1,           1,           1,           1,           1,           1,           1,           1,           1,           1,\n",
       "                  1,           1,           1,           1,           1,           1,           1,           1,           1,           1,           1,           1,           1,           1,           1,           1,           1,           1,           1,           1,           1,           1,           1,\n",
       "                  1,           1,           1,           1,           1,           1,           1,           1,           1,           1,           1,           1,           1,           1,           1,           1,           1,           1,           1,           1,           1,           1,           1,\n",
       "                  1,           1,           1,           1,           1,           1,           1,           1,           1,           1,           1,           1,           1,           1,           1,           1,           1,           1,           1,           1,           1,           1,           1,\n",
       "                  1,           1,           1,           1,           1,           1,           1,           1,           1,           1,           1,           1,           1,           1,           1,           1,           1,           1,           1,           1,           1,           1,           1,\n",
       "                  1,           1,           1,           1,           1,           1,           1,           1,           1,           1,           1]]), 'Confidence', 'Precision'], [array([          0,    0.001001,    0.002002,    0.003003,    0.004004,    0.005005,    0.006006,    0.007007,    0.008008,    0.009009,     0.01001,    0.011011,    0.012012,    0.013013,    0.014014,    0.015015,    0.016016,    0.017017,    0.018018,    0.019019,     0.02002,    0.021021,    0.022022,    0.023023,\n",
       "          0.024024,    0.025025,    0.026026,    0.027027,    0.028028,    0.029029,     0.03003,    0.031031,    0.032032,    0.033033,    0.034034,    0.035035,    0.036036,    0.037037,    0.038038,    0.039039,     0.04004,    0.041041,    0.042042,    0.043043,    0.044044,    0.045045,    0.046046,    0.047047,\n",
       "          0.048048,    0.049049,     0.05005,    0.051051,    0.052052,    0.053053,    0.054054,    0.055055,    0.056056,    0.057057,    0.058058,    0.059059,     0.06006,    0.061061,    0.062062,    0.063063,    0.064064,    0.065065,    0.066066,    0.067067,    0.068068,    0.069069,     0.07007,    0.071071,\n",
       "          0.072072,    0.073073,    0.074074,    0.075075,    0.076076,    0.077077,    0.078078,    0.079079,     0.08008,    0.081081,    0.082082,    0.083083,    0.084084,    0.085085,    0.086086,    0.087087,    0.088088,    0.089089,     0.09009,    0.091091,    0.092092,    0.093093,    0.094094,    0.095095,\n",
       "          0.096096,    0.097097,    0.098098,    0.099099,      0.1001,      0.1011,      0.1021,      0.1031,      0.1041,     0.10511,     0.10611,     0.10711,     0.10811,     0.10911,     0.11011,     0.11111,     0.11211,     0.11311,     0.11411,     0.11512,     0.11612,     0.11712,     0.11812,     0.11912,\n",
       "           0.12012,     0.12112,     0.12212,     0.12312,     0.12412,     0.12513,     0.12613,     0.12713,     0.12813,     0.12913,     0.13013,     0.13113,     0.13213,     0.13313,     0.13413,     0.13514,     0.13614,     0.13714,     0.13814,     0.13914,     0.14014,     0.14114,     0.14214,     0.14314,\n",
       "           0.14414,     0.14515,     0.14615,     0.14715,     0.14815,     0.14915,     0.15015,     0.15115,     0.15215,     0.15315,     0.15415,     0.15516,     0.15616,     0.15716,     0.15816,     0.15916,     0.16016,     0.16116,     0.16216,     0.16316,     0.16416,     0.16517,     0.16617,     0.16717,\n",
       "           0.16817,     0.16917,     0.17017,     0.17117,     0.17217,     0.17317,     0.17417,     0.17518,     0.17618,     0.17718,     0.17818,     0.17918,     0.18018,     0.18118,     0.18218,     0.18318,     0.18418,     0.18519,     0.18619,     0.18719,     0.18819,     0.18919,     0.19019,     0.19119,\n",
       "           0.19219,     0.19319,     0.19419,      0.1952,      0.1962,      0.1972,      0.1982,      0.1992,      0.2002,      0.2012,      0.2022,      0.2032,      0.2042,     0.20521,     0.20621,     0.20721,     0.20821,     0.20921,     0.21021,     0.21121,     0.21221,     0.21321,     0.21421,     0.21522,\n",
       "           0.21622,     0.21722,     0.21822,     0.21922,     0.22022,     0.22122,     0.22222,     0.22322,     0.22422,     0.22523,     0.22623,     0.22723,     0.22823,     0.22923,     0.23023,     0.23123,     0.23223,     0.23323,     0.23423,     0.23524,     0.23624,     0.23724,     0.23824,     0.23924,\n",
       "           0.24024,     0.24124,     0.24224,     0.24324,     0.24424,     0.24525,     0.24625,     0.24725,     0.24825,     0.24925,     0.25025,     0.25125,     0.25225,     0.25325,     0.25425,     0.25526,     0.25626,     0.25726,     0.25826,     0.25926,     0.26026,     0.26126,     0.26226,     0.26326,\n",
       "           0.26426,     0.26527,     0.26627,     0.26727,     0.26827,     0.26927,     0.27027,     0.27127,     0.27227,     0.27327,     0.27427,     0.27528,     0.27628,     0.27728,     0.27828,     0.27928,     0.28028,     0.28128,     0.28228,     0.28328,     0.28428,     0.28529,     0.28629,     0.28729,\n",
       "           0.28829,     0.28929,     0.29029,     0.29129,     0.29229,     0.29329,     0.29429,      0.2953,      0.2963,      0.2973,      0.2983,      0.2993,      0.3003,      0.3013,      0.3023,      0.3033,      0.3043,     0.30531,     0.30631,     0.30731,     0.30831,     0.30931,     0.31031,     0.31131,\n",
       "           0.31231,     0.31331,     0.31431,     0.31532,     0.31632,     0.31732,     0.31832,     0.31932,     0.32032,     0.32132,     0.32232,     0.32332,     0.32432,     0.32533,     0.32633,     0.32733,     0.32833,     0.32933,     0.33033,     0.33133,     0.33233,     0.33333,     0.33433,     0.33534,\n",
       "           0.33634,     0.33734,     0.33834,     0.33934,     0.34034,     0.34134,     0.34234,     0.34334,     0.34434,     0.34535,     0.34635,     0.34735,     0.34835,     0.34935,     0.35035,     0.35135,     0.35235,     0.35335,     0.35435,     0.35536,     0.35636,     0.35736,     0.35836,     0.35936,\n",
       "           0.36036,     0.36136,     0.36236,     0.36336,     0.36436,     0.36537,     0.36637,     0.36737,     0.36837,     0.36937,     0.37037,     0.37137,     0.37237,     0.37337,     0.37437,     0.37538,     0.37638,     0.37738,     0.37838,     0.37938,     0.38038,     0.38138,     0.38238,     0.38338,\n",
       "           0.38438,     0.38539,     0.38639,     0.38739,     0.38839,     0.38939,     0.39039,     0.39139,     0.39239,     0.39339,     0.39439,      0.3954,      0.3964,      0.3974,      0.3984,      0.3994,      0.4004,      0.4014,      0.4024,      0.4034,      0.4044,     0.40541,     0.40641,     0.40741,\n",
       "           0.40841,     0.40941,     0.41041,     0.41141,     0.41241,     0.41341,     0.41441,     0.41542,     0.41642,     0.41742,     0.41842,     0.41942,     0.42042,     0.42142,     0.42242,     0.42342,     0.42442,     0.42543,     0.42643,     0.42743,     0.42843,     0.42943,     0.43043,     0.43143,\n",
       "           0.43243,     0.43343,     0.43443,     0.43544,     0.43644,     0.43744,     0.43844,     0.43944,     0.44044,     0.44144,     0.44244,     0.44344,     0.44444,     0.44545,     0.44645,     0.44745,     0.44845,     0.44945,     0.45045,     0.45145,     0.45245,     0.45345,     0.45445,     0.45546,\n",
       "           0.45646,     0.45746,     0.45846,     0.45946,     0.46046,     0.46146,     0.46246,     0.46346,     0.46446,     0.46547,     0.46647,     0.46747,     0.46847,     0.46947,     0.47047,     0.47147,     0.47247,     0.47347,     0.47447,     0.47548,     0.47648,     0.47748,     0.47848,     0.47948,\n",
       "           0.48048,     0.48148,     0.48248,     0.48348,     0.48448,     0.48549,     0.48649,     0.48749,     0.48849,     0.48949,     0.49049,     0.49149,     0.49249,     0.49349,     0.49449,      0.4955,      0.4965,      0.4975,      0.4985,      0.4995,      0.5005,      0.5015,      0.5025,      0.5035,\n",
       "            0.5045,     0.50551,     0.50651,     0.50751,     0.50851,     0.50951,     0.51051,     0.51151,     0.51251,     0.51351,     0.51451,     0.51552,     0.51652,     0.51752,     0.51852,     0.51952,     0.52052,     0.52152,     0.52252,     0.52352,     0.52452,     0.52553,     0.52653,     0.52753,\n",
       "           0.52853,     0.52953,     0.53053,     0.53153,     0.53253,     0.53353,     0.53453,     0.53554,     0.53654,     0.53754,     0.53854,     0.53954,     0.54054,     0.54154,     0.54254,     0.54354,     0.54454,     0.54555,     0.54655,     0.54755,     0.54855,     0.54955,     0.55055,     0.55155,\n",
       "           0.55255,     0.55355,     0.55455,     0.55556,     0.55656,     0.55756,     0.55856,     0.55956,     0.56056,     0.56156,     0.56256,     0.56356,     0.56456,     0.56557,     0.56657,     0.56757,     0.56857,     0.56957,     0.57057,     0.57157,     0.57257,     0.57357,     0.57457,     0.57558,\n",
       "           0.57658,     0.57758,     0.57858,     0.57958,     0.58058,     0.58158,     0.58258,     0.58358,     0.58458,     0.58559,     0.58659,     0.58759,     0.58859,     0.58959,     0.59059,     0.59159,     0.59259,     0.59359,     0.59459,      0.5956,      0.5966,      0.5976,      0.5986,      0.5996,\n",
       "            0.6006,      0.6016,      0.6026,      0.6036,      0.6046,     0.60561,     0.60661,     0.60761,     0.60861,     0.60961,     0.61061,     0.61161,     0.61261,     0.61361,     0.61461,     0.61562,     0.61662,     0.61762,     0.61862,     0.61962,     0.62062,     0.62162,     0.62262,     0.62362,\n",
       "           0.62462,     0.62563,     0.62663,     0.62763,     0.62863,     0.62963,     0.63063,     0.63163,     0.63263,     0.63363,     0.63463,     0.63564,     0.63664,     0.63764,     0.63864,     0.63964,     0.64064,     0.64164,     0.64264,     0.64364,     0.64464,     0.64565,     0.64665,     0.64765,\n",
       "           0.64865,     0.64965,     0.65065,     0.65165,     0.65265,     0.65365,     0.65465,     0.65566,     0.65666,     0.65766,     0.65866,     0.65966,     0.66066,     0.66166,     0.66266,     0.66366,     0.66466,     0.66567,     0.66667,     0.66767,     0.66867,     0.66967,     0.67067,     0.67167,\n",
       "           0.67267,     0.67367,     0.67467,     0.67568,     0.67668,     0.67768,     0.67868,     0.67968,     0.68068,     0.68168,     0.68268,     0.68368,     0.68468,     0.68569,     0.68669,     0.68769,     0.68869,     0.68969,     0.69069,     0.69169,     0.69269,     0.69369,     0.69469,      0.6957,\n",
       "            0.6967,      0.6977,      0.6987,      0.6997,      0.7007,      0.7017,      0.7027,      0.7037,      0.7047,     0.70571,     0.70671,     0.70771,     0.70871,     0.70971,     0.71071,     0.71171,     0.71271,     0.71371,     0.71471,     0.71572,     0.71672,     0.71772,     0.71872,     0.71972,\n",
       "           0.72072,     0.72172,     0.72272,     0.72372,     0.72472,     0.72573,     0.72673,     0.72773,     0.72873,     0.72973,     0.73073,     0.73173,     0.73273,     0.73373,     0.73473,     0.73574,     0.73674,     0.73774,     0.73874,     0.73974,     0.74074,     0.74174,     0.74274,     0.74374,\n",
       "           0.74474,     0.74575,     0.74675,     0.74775,     0.74875,     0.74975,     0.75075,     0.75175,     0.75275,     0.75375,     0.75475,     0.75576,     0.75676,     0.75776,     0.75876,     0.75976,     0.76076,     0.76176,     0.76276,     0.76376,     0.76476,     0.76577,     0.76677,     0.76777,\n",
       "           0.76877,     0.76977,     0.77077,     0.77177,     0.77277,     0.77377,     0.77477,     0.77578,     0.77678,     0.77778,     0.77878,     0.77978,     0.78078,     0.78178,     0.78278,     0.78378,     0.78478,     0.78579,     0.78679,     0.78779,     0.78879,     0.78979,     0.79079,     0.79179,\n",
       "           0.79279,     0.79379,     0.79479,      0.7958,      0.7968,      0.7978,      0.7988,      0.7998,      0.8008,      0.8018,      0.8028,      0.8038,      0.8048,     0.80581,     0.80681,     0.80781,     0.80881,     0.80981,     0.81081,     0.81181,     0.81281,     0.81381,     0.81481,     0.81582,\n",
       "           0.81682,     0.81782,     0.81882,     0.81982,     0.82082,     0.82182,     0.82282,     0.82382,     0.82482,     0.82583,     0.82683,     0.82783,     0.82883,     0.82983,     0.83083,     0.83183,     0.83283,     0.83383,     0.83483,     0.83584,     0.83684,     0.83784,     0.83884,     0.83984,\n",
       "           0.84084,     0.84184,     0.84284,     0.84384,     0.84484,     0.84585,     0.84685,     0.84785,     0.84885,     0.84985,     0.85085,     0.85185,     0.85285,     0.85385,     0.85485,     0.85586,     0.85686,     0.85786,     0.85886,     0.85986,     0.86086,     0.86186,     0.86286,     0.86386,\n",
       "           0.86486,     0.86587,     0.86687,     0.86787,     0.86887,     0.86987,     0.87087,     0.87187,     0.87287,     0.87387,     0.87487,     0.87588,     0.87688,     0.87788,     0.87888,     0.87988,     0.88088,     0.88188,     0.88288,     0.88388,     0.88488,     0.88589,     0.88689,     0.88789,\n",
       "           0.88889,     0.88989,     0.89089,     0.89189,     0.89289,     0.89389,     0.89489,      0.8959,      0.8969,      0.8979,      0.8989,      0.8999,      0.9009,      0.9019,      0.9029,      0.9039,      0.9049,     0.90591,     0.90691,     0.90791,     0.90891,     0.90991,     0.91091,     0.91191,\n",
       "           0.91291,     0.91391,     0.91491,     0.91592,     0.91692,     0.91792,     0.91892,     0.91992,     0.92092,     0.92192,     0.92292,     0.92392,     0.92492,     0.92593,     0.92693,     0.92793,     0.92893,     0.92993,     0.93093,     0.93193,     0.93293,     0.93393,     0.93493,     0.93594,\n",
       "           0.93694,     0.93794,     0.93894,     0.93994,     0.94094,     0.94194,     0.94294,     0.94394,     0.94494,     0.94595,     0.94695,     0.94795,     0.94895,     0.94995,     0.95095,     0.95195,     0.95295,     0.95395,     0.95495,     0.95596,     0.95696,     0.95796,     0.95896,     0.95996,\n",
       "           0.96096,     0.96196,     0.96296,     0.96396,     0.96496,     0.96597,     0.96697,     0.96797,     0.96897,     0.96997,     0.97097,     0.97197,     0.97297,     0.97397,     0.97497,     0.97598,     0.97698,     0.97798,     0.97898,     0.97998,     0.98098,     0.98198,     0.98298,     0.98398,\n",
       "           0.98498,     0.98599,     0.98699,     0.98799,     0.98899,     0.98999,     0.99099,     0.99199,     0.99299,     0.99399,     0.99499,       0.996,       0.997,       0.998,       0.999,           1]), array([[          1,           1,           1,           1,           1,           1,     0.99375,     0.99375,     0.99375,     0.99375,     0.99375,     0.99375,     0.99375,     0.99375,     0.99375,     0.99375,     0.99375,     0.99375,     0.99375,     0.99375,     0.99375,     0.99375,     0.99375,\n",
       "            0.99375,     0.99375,     0.99375,     0.99375,     0.99375,     0.99375,     0.99375,     0.99375,     0.99375,     0.99375,     0.98908,     0.97592,       0.975,       0.975,       0.975,       0.975,       0.975,       0.975,       0.975,       0.975,       0.975,       0.975,       0.975,\n",
       "              0.975,       0.975,       0.975,       0.975,       0.975,       0.975,       0.975,       0.975,       0.975,       0.975,       0.975,       0.975,       0.975,       0.975,       0.975,       0.975,       0.975,       0.975,       0.975,       0.975,       0.975,       0.975,       0.975,\n",
       "              0.975,       0.975,       0.975,       0.975,       0.975,       0.975,       0.975,       0.975,       0.975,       0.975,       0.975,       0.975,       0.975,       0.975,       0.975,       0.975,       0.975,       0.975,       0.975,       0.975,       0.975,       0.975,     0.97499,\n",
       "            0.97453,     0.97408,     0.97363,     0.97317,     0.97272,     0.97227,     0.97181,     0.97136,     0.97091,     0.97045,        0.97,     0.96955,     0.96909,     0.96875,     0.96875,     0.96746,      0.9658,     0.96415,      0.9625,      0.9625,      0.9625,      0.9625,      0.9625,\n",
       "             0.9625,      0.9625,      0.9625,      0.9625,      0.9625,      0.9625,      0.9625,      0.9625,      0.9625,      0.9625,      0.9625,      0.9625,      0.9625,      0.9625,      0.9625,      0.9625,      0.9625,      0.9625,      0.9625,      0.9625,      0.9625,      0.9625,      0.9625,\n",
       "             0.9625,      0.9625,      0.9625,      0.9625,      0.9625,      0.9625,      0.9625,      0.9625,      0.9625,      0.9625,      0.9625,      0.9625,      0.9625,      0.9625,      0.9625,      0.9625,      0.9625,      0.9625,      0.9625,      0.9625,      0.9625,      0.9625,      0.9625,\n",
       "             0.9625,      0.9625,      0.9625,      0.9625,      0.9625,      0.9625,      0.9625,      0.9625,      0.9625,      0.9625,      0.9625,      0.9625,      0.9625,      0.9625,      0.9625,      0.9625,      0.9625,      0.9625,      0.9625,      0.9625,      0.9625,      0.9625,      0.9625,\n",
       "             0.9625,      0.9625,      0.9625,      0.9625,      0.9625,      0.9625,      0.9625,     0.96191,     0.96077,     0.95963,     0.95849,     0.95736,     0.95625,     0.95612,     0.95599,     0.95586,     0.95574,     0.95561,     0.95548,     0.95535,     0.95522,      0.9551,     0.95497,\n",
       "            0.95484,     0.95471,     0.95458,     0.95446,     0.95433,      0.9542,     0.95407,     0.95395,     0.95382,     0.95369,     0.95356,     0.95343,     0.95331,     0.95318,     0.95305,     0.95292,      0.9528,     0.95267,     0.95254,     0.95241,     0.95228,     0.95216,     0.95203,\n",
       "             0.9519,     0.95177,     0.95165,     0.95152,     0.95139,     0.95126,     0.95113,     0.95101,     0.95088,     0.95075,     0.95062,     0.95049,     0.95037,     0.95024,     0.95011,        0.95,        0.95,        0.95,        0.95,        0.95,        0.95,        0.95,        0.95,\n",
       "               0.95,        0.95,        0.95,        0.95,        0.95,        0.95,        0.95,        0.95,        0.95,        0.95,        0.95,        0.95,        0.95,        0.95,        0.95,        0.95,        0.95,        0.95,        0.95,        0.95,        0.95,        0.95,        0.95,\n",
       "               0.95,        0.95,        0.95,        0.95,        0.95,        0.95,        0.95,        0.95,        0.95,        0.95,        0.95,        0.95,        0.95,        0.95,        0.95,        0.95,        0.95,        0.95,        0.95,        0.95,        0.95,        0.95,        0.95,\n",
       "               0.95,        0.95,        0.95,        0.95,        0.95,        0.95,        0.95,        0.95,        0.95,        0.95,        0.95,        0.95,        0.95,        0.95,        0.95,        0.95,     0.94983,     0.94937,     0.94891,     0.94846,       0.948,     0.94754,     0.94708,\n",
       "            0.94663,     0.94617,     0.94571,     0.94525,      0.9448,     0.94434,     0.94388,     0.94375,     0.94375,     0.94375,     0.94375,     0.94375,     0.94375,     0.94375,     0.94375,     0.94375,     0.94375,     0.94375,     0.94375,     0.94375,     0.94375,      0.9431,      0.9423,\n",
       "             0.9415,      0.9407,      0.9399,     0.93909,     0.93829,     0.93749,     0.93614,     0.93479,     0.93344,     0.93209,     0.93125,     0.93125,     0.93125,     0.93125,     0.93125,     0.93125,     0.93125,     0.93125,     0.93125,     0.93125,     0.93097,     0.93051,     0.93005,\n",
       "            0.92959,     0.92914,     0.92868,     0.92822,     0.92776,     0.92731,     0.92685,     0.92639,     0.92593,     0.92548,     0.92502,     0.92192,     0.91875,     0.91838,     0.91703,     0.91568,     0.91433,     0.91298,      0.9125,      0.9125,      0.9125,      0.9125,      0.9125,\n",
       "             0.9125,      0.9125,      0.9125,      0.9125,      0.9125,      0.9125,      0.9125,      0.9125,      0.9125,      0.9125,      0.9125,      0.9125,      0.9125,      0.9125,      0.9125,      0.9125,      0.9125,      0.9125,      0.9125,      0.9125,      0.9125,      0.9125,      0.9125,\n",
       "             0.9125,      0.9125,      0.9125,      0.9125,      0.9125,      0.9125,      0.9125,      0.9125,      0.9125,     0.91249,     0.91234,     0.91219,     0.91204,     0.91188,     0.91173,     0.91158,     0.91143,     0.91128,     0.91113,     0.91098,     0.91083,     0.91068,     0.91053,\n",
       "            0.91038,     0.91023,     0.91008,     0.90992,     0.90977,     0.90962,     0.90947,     0.90932,     0.90917,     0.90902,     0.90887,     0.90872,     0.90857,     0.90842,     0.90827,     0.90812,     0.90797,     0.90781,     0.90766,     0.90751,     0.90736,     0.90721,     0.90706,\n",
       "            0.90691,     0.90676,     0.90661,     0.90646,     0.90631,     0.90426,     0.90106,         0.9,         0.9,         0.9,         0.9,         0.9,         0.9,         0.9,         0.9,         0.9,         0.9,         0.9,         0.9,         0.9,         0.9,         0.9,         0.9,\n",
       "                0.9,         0.9,         0.9,         0.9,         0.9,         0.9,     0.89365,     0.89322,      0.8928,     0.89237,     0.89194,     0.89152,     0.89109,     0.89066,     0.89023,     0.88981,     0.88938,     0.88895,     0.88853,      0.8881,     0.88767,     0.88739,      0.8872,\n",
       "            0.88701,     0.88682,     0.88663,     0.88645,     0.88626,     0.88607,     0.88588,     0.88569,      0.8855,     0.88531,     0.88513,     0.88494,     0.88475,     0.88456,     0.88437,     0.88418,       0.884,     0.88381,     0.88362,     0.88343,     0.88324,     0.88305,     0.88287,\n",
       "            0.88268,     0.88249,      0.8823,     0.88211,     0.88192,     0.88173,     0.88155,     0.88136,     0.88125,     0.88112,     0.88084,     0.88055,     0.88027,     0.87998,      0.8797,     0.87941,     0.87913,     0.87884,     0.87856,     0.87827,     0.87799,      0.8777,     0.87742,\n",
       "            0.87714,     0.87685,     0.87657,     0.87628,       0.876,     0.87571,     0.87543,     0.87514,     0.87446,      0.8734,     0.87233,     0.87126,     0.87019,     0.86913,     0.86875,     0.86875,     0.86875,     0.86875,     0.86875,     0.86875,     0.86875,     0.86875,     0.86875,\n",
       "            0.86875,     0.86875,     0.86875,     0.86875,     0.86875,     0.86875,     0.86875,     0.86875,     0.86875,     0.86875,     0.86875,     0.86875,     0.86875,     0.86875,     0.86875,     0.86875,     0.86875,     0.86875,     0.86875,     0.86818,     0.86751,     0.86683,     0.86616,\n",
       "            0.86548,     0.86481,     0.86413,     0.86346,     0.86279,     0.86242,     0.86229,     0.86216,     0.86203,      0.8619,     0.86176,     0.86163,      0.8615,     0.86137,     0.86124,      0.8611,     0.86097,     0.86084,     0.86071,     0.86057,     0.86044,     0.86031,     0.86018,\n",
       "            0.86005,     0.85991,     0.85978,     0.85965,     0.85952,     0.85939,     0.85925,     0.85912,     0.85899,     0.85886,     0.85873,     0.85859,     0.85846,     0.85833,      0.8582,     0.85806,     0.85793,      0.8578,     0.85767,     0.85754,      0.8574,     0.85727,     0.85714,\n",
       "            0.85701,     0.85688,     0.85674,     0.85661,     0.85648,     0.85635,     0.85625,     0.85625,     0.85625,     0.85625,     0.85625,     0.85625,     0.85625,     0.85625,     0.85625,     0.85625,     0.85625,     0.85625,     0.85625,     0.85625,     0.85625,     0.85536,     0.84991,\n",
       "            0.84932,     0.84874,     0.84816,     0.84758,     0.84699,     0.84641,     0.84583,     0.84525,     0.84466,     0.84408,     0.84336,     0.84244,     0.84153,     0.84061,     0.83969,     0.83878,     0.83786,      0.8375,      0.8375,     0.83694,     0.83609,     0.83524,     0.83438,\n",
       "            0.83353,     0.83267,     0.83182,     0.83125,     0.83125,     0.83125,     0.82552,     0.82382,     0.82254,     0.82126,     0.81998,     0.81857,      0.8143,     0.81144,     0.80961,     0.80778,     0.80625,     0.80625,     0.80625,     0.80625,     0.80625,     0.80625,     0.80625,\n",
       "            0.80625,     0.80625,     0.80625,     0.80625,     0.80625,     0.80532,     0.80433,     0.80335,     0.80236,     0.80138,     0.80039,     0.79952,     0.79872,     0.79792,     0.79711,     0.79631,     0.79551,     0.79471,     0.79391,     0.79034,     0.77982,     0.77555,     0.77314,\n",
       "              0.771,     0.76887,     0.76673,      0.7646,     0.76242,     0.75815,     0.75447,     0.75127,     0.74375,     0.74375,     0.74375,     0.74086,     0.73732,     0.73646,     0.73561,     0.73476,      0.7339,     0.73305,     0.73219,     0.73134,     0.72895,     0.72639,     0.71777,\n",
       "            0.71564,      0.7135,     0.70398,      0.6999,     0.69848,     0.69706,     0.69563,     0.69421,     0.69086,     0.68725,     0.68609,     0.68492,     0.68376,     0.68259,     0.68143,     0.67763,     0.67465,     0.67373,     0.67282,      0.6719,     0.67099,     0.67007,     0.66916,\n",
       "            0.65894,     0.64752,     0.64325,     0.63898,     0.63686,     0.63587,     0.63488,      0.6339,     0.63291,     0.63193,     0.63025,     0.62705,     0.62038,     0.61148,     0.61032,     0.60915,     0.60799,     0.60682,     0.60532,     0.60349,     0.60166,     0.59976,      0.5972,\n",
       "            0.59464,     0.58471,     0.58076,      0.5782,     0.57564,     0.57362,     0.57179,     0.56996,     0.56443,     0.55471,     0.55044,     0.54425,     0.53514,     0.53257,     0.52815,     0.52337,     0.52017,     0.51232,     0.50976,      0.5072,     0.50221,     0.49832,     0.49576,\n",
       "            0.49306,     0.48986,     0.48077,     0.47894,     0.47711,     0.47528,     0.47228,     0.46908,     0.44925,     0.44742,     0.44559,     0.44376,     0.43044,     0.42883,     0.42723,     0.42563,     0.42112,     0.41606,     0.41143,     0.40502,     0.39237,     0.38022,     0.37595,\n",
       "            0.36838,      0.3671,     0.36582,     0.36454,     0.36325,     0.35987,     0.35588,     0.35502,     0.35417,     0.35332,     0.35246,     0.35161,     0.35075,     0.34353,      0.3417,     0.33987,     0.33804,     0.32387,     0.32227,     0.32067,     0.31907,     0.31205,     0.31063,\n",
       "            0.30921,     0.30778,     0.30636,     0.30033,     0.29393,     0.27189,     0.26549,     0.25617,     0.25434,     0.25251,     0.25067,     0.23971,      0.2361,     0.23396,     0.23183,     0.22658,     0.21705,     0.20878,     0.20539,     0.20433,     0.20326,     0.20219,     0.20112,\n",
       "            0.20005,     0.19848,     0.19688,     0.19528,     0.19355,     0.18928,     0.18003,     0.16219,     0.15963,     0.15707,     0.15189,     0.13621,     0.13438,     0.13255,     0.12753,     0.11817,     0.11634,     0.11451,     0.11268,     0.10673,     0.10507,     0.10378,      0.1025,\n",
       "            0.10122,    0.099399,    0.091362,    0.086887,    0.080737,    0.076466,    0.070793,    0.058136,    0.054442,    0.051879,    0.046584,    0.038761,    0.036814,     0.03596,    0.035106,    0.034251,    0.033397,    0.032543,    0.031689,    0.030471,    0.028869,    0.027268,    0.025666,\n",
       "           0.023504,    0.020941,    0.018131,     0.01386,           0,           0,           0,           0,           0,           0,           0,           0,           0,           0,           0,           0,           0,           0,           0,           0,           0,           0,           0,\n",
       "                  0,           0,           0,           0,           0,           0,           0,           0,           0,           0,           0,           0,           0,           0,           0,           0,           0,           0,           0,           0,           0,           0,           0,\n",
       "                  0,           0,           0,           0,           0,           0,           0,           0,           0,           0,           0]]), 'Confidence', 'Recall']]\n",
       "fitness: 0.7171803636064084\n",
       "keys: ['metrics/precision(B)', 'metrics/recall(B)', 'metrics/mAP50(B)', 'metrics/mAP50-95(B)']\n",
       "maps: array([    0.68827])\n",
       "names: {0: 'parking_spot'}\n",
       "nt_per_class: array([160], dtype=int64)\n",
       "nt_per_image: array([3], dtype=int64)\n",
       "results_dict: {'metrics/precision(B)': 0.9088047635462609, 'metrics/recall(B)': 0.95, 'metrics/mAP50(B)': 0.9773861163638826, 'metrics/mAP50-95(B)': 0.6882686133000222, 'fitness': 0.7171803636064084}\n",
       "speed: {'preprocess': 0.7599999995970089, 'inference': 34.41320000032041, 'loss': 0.003200000113186737, 'postprocess': 2.124833332951918}\n",
       "stats: {'tp': [], 'conf': [], 'pred_cls': [], 'target_cls': [], 'target_img': []}\n",
       "task: 'detect'"
      ]
     },
     "execution_count": 3,
     "metadata": {},
     "output_type": "execute_result"
    }
   ],
   "source": [
    "from ultralytics import YOLO\n",
    "\n",
    "model = YOLO('yolov8x.pt')\n",
    "\n",
    "model.train(\n",
    "    data='data.yaml',\n",
    "    epochs=35,\n",
    "    imgsz=640,\n",
    "    batch=16,\n",
    ")\n"
   ]
  },
  {
   "cell_type": "code",
   "execution_count": 5,
   "id": "e039e302",
   "metadata": {},
   "outputs": [
    {
     "name": "stdout",
     "output_type": "stream",
     "text": [
      "\n",
      "image 1/1 c:\\Users\\NSLENG\\Desktop\\AUPP\\Summer 2025\\Computer Science B\\Final Project\\YOLO Testing Package\\car1.png: 1088x1920 39 cars, 64.1ms\n",
      "Speed: 9.1ms preprocess, 64.1ms inference, 4.1ms postprocess per image at shape (1, 3, 1088, 1920)\n",
      "Results saved to \u001b[1mruns\\detect\\predict15\u001b[0m\n"
     ]
    }
   ],
   "source": [
    "from ultralytics import YOLO\n",
    "model = YOLO('yolov8s_fold_1.pt')\n",
    "\n",
    "results = model.predict(\n",
    "    source='car1.png',\n",
    "    save=True,\n",
    "    conf=0.3,\n",
    "    show_labels=False,   # Disable class name text\n",
    "    show_conf=False      # Disable confidence text\n",
    ")\n",
    "\n"
   ]
  }
 ],
 "metadata": {
  "kernelspec": {
   "display_name": "base",
   "language": "python",
   "name": "python3"
  },
  "language_info": {
   "codemirror_mode": {
    "name": "ipython",
    "version": 3
   },
   "file_extension": ".py",
   "mimetype": "text/x-python",
   "name": "python",
   "nbconvert_exporter": "python",
   "pygments_lexer": "ipython3",
   "version": "3.12.7"
  }
 },
 "nbformat": 4,
 "nbformat_minor": 5
}
