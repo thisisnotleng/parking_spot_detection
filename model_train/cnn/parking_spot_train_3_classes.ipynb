{
  "cells": [
    {
      "cell_type": "code",
      "execution_count": 1,
      "metadata": {
        "colab": {
          "base_uri": "https://localhost:8080/"
        },
        "id": "HWjTVZ30tRgF",
        "outputId": "0340c180-6154-4da6-cb04-d29f3a261dc5"
      },
      "outputs": [
        {
          "name": "stdout",
          "output_type": "stream",
          "text": [
            "772 180\n"
          ]
        }
      ],
      "source": [
        "import numpy as np\n",
        "import os\n",
        "from tensorflow.keras import applications\n",
        "from tensorflow.keras.preprocessing.image import ImageDataGenerator\n",
        "from tensorflow.keras import optimizers\n",
        "from tensorflow.keras.models import Sequential, Model\n",
        "from tensorflow.keras.layers import Dropout, Flatten, Dense, GlobalAveragePooling2D\n",
        "\n",
        "# Count number of training and validation images by walking through directories\n",
        "files_train = 0\n",
        "files_validation = 0\n",
        "cwd = os.getcwd()\n",
        "folder = 'dataset/train'\n",
        "\n",
        "# Loop through each subfolder (class) in training directory and count files\n",
        "for sub_folder in os.listdir(folder):\n",
        "    path, dirs, files = next(os.walk(os.path.join(folder, sub_folder)))\n",
        "    files_train += len(files)\n",
        "\n",
        "# Loop through each subfolder (class) in test directory and count files\n",
        "folder = 'dataset/test'\n",
        "\n",
        "for sub_folder in os.listdir(folder):\n",
        "    path, dirs, files = next(os.walk(os.path.join(folder, sub_folder)))\n",
        "    files_validation += len(files)\n",
        "\n",
        "# Print total number of images in training and validation sets\n",
        "print(files_train, files_validation)\n"
      ]
    },
    {
      "cell_type": "code",
      "execution_count": 2,
      "metadata": {
        "id": "T7uSe9LRtsa9"
      },
      "outputs": [],
      "source": [
        "# Set image dimensions\n",
        "img_width, img_height = 48, 48\n",
        "\n",
        "# Define paths to training and validation data directories\n",
        "train_data_dir = 'dataset/train'\n",
        "validation_data_dir = 'dataset/test'\n",
        "\n",
        "# Assign image counts to variables for training process\n",
        "nb_train_sample = files_train\n",
        "nb_validation_sample = files_validation\n",
        "\n",
        "# Set training parameters\n",
        "batch_size = 32\n",
        "epochs = 35\n",
        "num_classes = 3  # Total number of output classes: empty, occupied, wrong_parking\n"
      ]
    },
    {
      "cell_type": "code",
      "execution_count": 3,
      "metadata": {
        "colab": {
          "base_uri": "https://localhost:8080/"
        },
        "id": "x1QqfgO7tuFJ",
        "outputId": "de358ff3-1529-41a0-8cf9-d1aaf1b18899"
      },
      "outputs": [
        {
          "name": "stdout",
          "output_type": "stream",
          "text": [
            "Train directories: ['empty', 'occupied', 'wrong_parking']\n",
            "Test directories: ['empty', 'occupied', 'wrong_parking']\n"
          ]
        }
      ],
      "source": [
        "# Load the VGG16 model with pretrained ImageNet weights, excluding the top fully connected layers\n",
        "model = applications.VGG16(weights='imagenet', include_top=False, input_shape=(img_width, img_height, 3))\n",
        "\n",
        "# Display model layers (for reference/debug)\n",
        "model.layers\n",
        "\n",
        "# Freeze the first 10 layers to retain pre-trained features and avoid overfitting on small dataset\n",
        "for layer in model.layers[:10]:\n",
        "    layer.traiable = False  # (Note: 'traiable' is likely a typo for 'trainable')\n",
        "\n",
        "# Add custom classification head: flattening and final Dense layer with softmax for multiclass classification\n",
        "x = model.output\n",
        "x = Flatten()(x)\n",
        "\n",
        "# Output layer with softmax activation to predict probabilities across 3 classes\n",
        "predictions = Dense(num_classes, activation='softmax')(x)\n",
        "\n",
        "# Create the final model combining base VGG16 and the new classification head\n",
        "model_final = Model(inputs=model.input, outputs=predictions)\n",
        "\n",
        "# Compile the model using categorical crossentropy for multiclass classification and SGD optimizer\n",
        "model_final.compile(\n",
        "    loss='categorical_crossentropy',\n",
        "    optimizer=optimizers.SGD(learning_rate=0.0001, momentum=0.9),\n",
        "    metrics=['accuracy']\n",
        ")\n",
        "\n",
        "# Print out class folder names for confirmation\n",
        "print(\"Train directories:\", os.listdir('dataset/train'))\n",
        "print(\"Test directories:\", os.listdir('dataset/test'))\n"
      ]
    },
    {
      "cell_type": "code",
      "execution_count": 4,
      "metadata": {
        "id": "qO04tdS3tw1f"
      },
      "outputs": [
        {
          "name": "stderr",
          "output_type": "stream",
          "text": [
            "'rm' is not recognized as an internal or external command,\n",
            "operable program or batch file.\n"
          ]
        },
        {
          "name": "stderr",
          "output_type": "stream",
          "text": [
            "'rm' is not recognized as an internal or external command,\n",
            "operable program or batch file.\n"
          ]
        }
      ],
      "source": [
        "# Remove Jupyter-specific checkpoint folders from train and test directories if they exist\n",
        "!rm -rf train/.ipynb_checkpoints\n",
        "\n",
        "# Clean up test directory as well by removing .ipynb_checkpoints\n",
        "!rm -rf test/.ipynb_checkpoints\n"
      ]
    },
    {
      "cell_type": "code",
      "execution_count": 5,
      "metadata": {
        "colab": {
          "base_uri": "https://localhost:8080/"
        },
        "id": "gq3l9dVetyNN",
        "outputId": "5a966026-e40e-45fc-8307-0191f95bee17"
      },
      "outputs": [
        {
          "name": "stdout",
          "output_type": "stream",
          "text": [
            "Found 772 images belonging to 3 classes.\n",
            "Found 180 images belonging to 3 classes.\n"
          ]
        }
      ],
      "source": [
        "# Define image augmentation configuration for training set\n",
        "train_datagen = ImageDataGenerator(\n",
        "    rescale=1.0/255,  # Normalize pixel values\n",
        "    horizontal_flip=True,  # Random horizontal flip\n",
        "    fill_mode='nearest',  # Filling strategy for shifted pixels\n",
        "    zoom_range=0.1,  # Random zoom within range\n",
        "    width_shift_range=0.1,  # Horizontal shift\n",
        "    height_shift_range=0.1,  # Vertical shift\n",
        "    rotation_range=5  # Small random rotations\n",
        ")\n",
        "\n",
        "# Define similar augmentation for validation set (can help generalization)\n",
        "test_datagen = ImageDataGenerator(\n",
        "    rescale=1.0/255,\n",
        "    horizontal_flip=True,\n",
        "    fill_mode='nearest',\n",
        "    zoom_range=0.1,\n",
        "    width_shift_range=0.1,\n",
        "    height_shift_range=0.1,\n",
        "    rotation_range=5\n",
        ")\n",
        "\n",
        "# Create generator for training data that yields batches of augmented images\n",
        "train_generator = train_datagen.flow_from_directory(\n",
        "    train_data_dir,\n",
        "    target_size=(img_height, img_width),\n",
        "    batch_size=batch_size,\n",
        "    class_mode='categorical',  # Multiclass classification\n",
        "    classes=['empty', 'occupied', 'wrong_parking']  # Define class labels explicitly\n",
        ")\n",
        "\n",
        "# Create generator for validation data (with similar transformations)\n",
        "validation_generator = test_datagen.flow_from_directory(\n",
        "    validation_data_dir,\n",
        "    target_size=(img_height, img_width),\n",
        "    batch_size=batch_size,\n",
        "    class_mode='categorical',\n",
        "    classes=['empty', 'occupied', 'wrong_parking']\n",
        ")\n"
      ]
    },
    {
      "cell_type": "code",
      "execution_count": 6,
      "metadata": {
        "colab": {
          "base_uri": "https://localhost:8080/"
        },
        "id": "65wapssYtze0",
        "outputId": "24554481-e04d-45e7-aca6-85244db026fd"
      },
      "outputs": [
        {
          "name": "stdout",
          "output_type": "stream",
          "text": [
            "{'empty': 0, 'occupied': 1, 'wrong_parking': 2}\n",
            "{'empty': 0, 'occupied': 1, 'wrong_parking': 2}\n"
          ]
        }
      ],
      "source": [
        "# Print the mapping of class names to numeric labels used internally by the generator\n",
        "print(train_generator.class_indices)\n",
        "print(validation_generator.class_indices)\n"
      ]
    },
    {
      "cell_type": "code",
      "execution_count": 7,
      "metadata": {
        "id": "ZTGkEt47t0fe"
      },
      "outputs": [],
      "source": [
        "# Recreate the classification head again (same as earlier) - may be redundant but included\n",
        "x = model.output\n",
        "x = Flatten()(x)\n",
        "\n",
        "# Output dense layer for 3 classes\n",
        "predictions = Dense(num_classes, activation='softmax')(x)\n",
        "\n",
        "# Define model using VGG16 base + new classification layer\n",
        "model_final = Model(inputs=model.input, outputs=predictions)\n",
        "\n",
        "# Compile again with SGD optimizer and crossentropy loss\n",
        "model_final.compile(\n",
        "    loss='categorical_crossentropy',\n",
        "    optimizer=optimizers.SGD(learning_rate=0.0001, momentum=0.9),\n",
        "    metrics=['accuracy']\n",
        ")\n"
      ]
    },
    {
      "cell_type": "code",
      "execution_count": 8,
      "metadata": {
        "colab": {
          "base_uri": "https://localhost:8080/"
        },
        "id": "CuQ5V6hJt1_J",
        "outputId": "4df8f2f3-2e2a-4026-bbf6-faa815ccefd8"
      },
      "outputs": [
        {
          "name": "stdout",
          "output_type": "stream",
          "text": [
            "Epoch 1/35\n",
            "24/24 [==============================] - 16s 487ms/step - loss: 0.8719 - accuracy: 0.5716 - val_loss: 0.7829 - val_accuracy: 0.7563\n",
            "Epoch 2/35\n",
            "24/24 [==============================] - 2s 98ms/step - loss: 0.4436 - accuracy: 0.8689 - val_loss: 0.4193 - val_accuracy: 0.8375\n",
            "Epoch 3/35\n",
            "24/24 [==============================] - 7s 279ms/step - loss: 0.2255 - accuracy: 0.9297 - val_loss: 0.3264 - val_accuracy: 0.8687\n",
            "Epoch 4/35\n",
            "24/24 [==============================] - 13s 521ms/step - loss: 0.1482 - accuracy: 0.9486 - val_loss: 0.3026 - val_accuracy: 0.9000\n",
            "Epoch 5/35\n",
            "24/24 [==============================] - 5s 186ms/step - loss: 0.1281 - accuracy: 0.9622 - val_loss: 0.2516 - val_accuracy: 0.9000\n",
            "Epoch 6/35\n",
            "24/24 [==============================] - 2s 97ms/step - loss: 0.0946 - accuracy: 0.9770 - val_loss: 0.2214 - val_accuracy: 0.9000\n",
            "Epoch 7/35\n",
            "24/24 [==============================] - 6s 241ms/step - loss: 0.0739 - accuracy: 0.9824 - val_loss: 0.1741 - val_accuracy: 0.9250\n",
            "Epoch 8/35\n",
            "24/24 [==============================] - 6s 240ms/step - loss: 0.0645 - accuracy: 0.9797 - val_loss: 0.1605 - val_accuracy: 0.9250\n",
            "Epoch 9/35\n",
            "24/24 [==============================] - 6s 248ms/step - loss: 0.0483 - accuracy: 0.9878 - val_loss: 0.2850 - val_accuracy: 0.9125\n",
            "Epoch 10/35\n",
            "24/24 [==============================] - 6s 242ms/step - loss: 0.0412 - accuracy: 0.9851 - val_loss: 0.1145 - val_accuracy: 0.9500\n",
            "Epoch 11/35\n",
            "24/24 [==============================] - 6s 248ms/step - loss: 0.0364 - accuracy: 0.9905 - val_loss: 0.1063 - val_accuracy: 0.9500\n",
            "Epoch 12/35\n",
            "24/24 [==============================] - 6s 243ms/step - loss: 0.0502 - accuracy: 0.9838 - val_loss: 0.2999 - val_accuracy: 0.9125\n",
            "Epoch 13/35\n",
            "24/24 [==============================] - 6s 241ms/step - loss: 0.0511 - accuracy: 0.9797 - val_loss: 0.2164 - val_accuracy: 0.9250\n",
            "Epoch 14/35\n",
            "24/24 [==============================] - 6s 249ms/step - loss: 0.0280 - accuracy: 0.9946 - val_loss: 0.1794 - val_accuracy: 0.9250\n",
            "Epoch 15/35\n",
            "24/24 [==============================] - 6s 246ms/step - loss: 0.0174 - accuracy: 0.9973 - val_loss: 0.0772 - val_accuracy: 0.9625\n",
            "Epoch 16/35\n",
            "24/24 [==============================] - 6s 241ms/step - loss: 0.0266 - accuracy: 0.9905 - val_loss: 0.1252 - val_accuracy: 0.9500\n",
            "Epoch 17/35\n",
            "24/24 [==============================] - 6s 245ms/step - loss: 0.0242 - accuracy: 0.9919 - val_loss: 0.1636 - val_accuracy: 0.9375\n",
            "Epoch 18/35\n",
            "24/24 [==============================] - 6s 242ms/step - loss: 0.0452 - accuracy: 0.9844 - val_loss: 0.1595 - val_accuracy: 0.9250\n",
            "Epoch 19/35\n",
            "24/24 [==============================] - 6s 240ms/step - loss: 0.0234 - accuracy: 0.9919 - val_loss: 0.1363 - val_accuracy: 0.9438\n",
            "Epoch 20/35\n",
            "24/24 [==============================] - 6s 251ms/step - loss: 0.0180 - accuracy: 0.9959 - val_loss: 0.1142 - val_accuracy: 0.9500\n",
            "Epoch 21/35\n",
            "24/24 [==============================] - 6s 241ms/step - loss: 0.0214 - accuracy: 0.9919 - val_loss: 0.1642 - val_accuracy: 0.9438\n",
            "Epoch 22/35\n",
            "24/24 [==============================] - 6s 247ms/step - loss: 0.0142 - accuracy: 0.9973 - val_loss: 0.1485 - val_accuracy: 0.9500\n",
            "Epoch 23/35\n",
            "24/24 [==============================] - 6s 242ms/step - loss: 0.0095 - accuracy: 0.9986 - val_loss: 0.0840 - val_accuracy: 0.9688\n",
            "Epoch 24/35\n",
            "24/24 [==============================] - 6s 240ms/step - loss: 0.0156 - accuracy: 0.9946 - val_loss: 0.0525 - val_accuracy: 0.9750\n",
            "Epoch 25/35\n",
            "24/24 [==============================] - 6s 255ms/step - loss: 0.0126 - accuracy: 0.9986 - val_loss: 0.0961 - val_accuracy: 0.9563\n",
            "Epoch 26/35\n",
            "24/24 [==============================] - 6s 241ms/step - loss: 0.0063 - accuracy: 1.0000 - val_loss: 0.1703 - val_accuracy: 0.9438\n",
            "Epoch 27/35\n",
            "24/24 [==============================] - 6s 241ms/step - loss: 0.0081 - accuracy: 0.9973 - val_loss: 0.1027 - val_accuracy: 0.9563\n",
            "Epoch 28/35\n",
            "24/24 [==============================] - 6s 241ms/step - loss: 0.0100 - accuracy: 0.9959 - val_loss: 0.1662 - val_accuracy: 0.9375\n",
            "Epoch 29/35\n",
            "24/24 [==============================] - 6s 244ms/step - loss: 0.0071 - accuracy: 1.0000 - val_loss: 0.0757 - val_accuracy: 0.9750\n",
            "Epoch 30/35\n",
            "24/24 [==============================] - 6s 250ms/step - loss: 0.0078 - accuracy: 1.0000 - val_loss: 0.1153 - val_accuracy: 0.9438\n",
            "Epoch 31/35\n",
            "24/24 [==============================] - 6s 245ms/step - loss: 0.0034 - accuracy: 1.0000 - val_loss: 0.1629 - val_accuracy: 0.9438\n",
            "Epoch 32/35\n",
            "24/24 [==============================] - 6s 241ms/step - loss: 0.0060 - accuracy: 0.9986 - val_loss: 0.0707 - val_accuracy: 0.9625\n",
            "Epoch 33/35\n",
            "24/24 [==============================] - 6s 241ms/step - loss: 0.0094 - accuracy: 0.9959 - val_loss: 0.0447 - val_accuracy: 0.9875\n",
            "Epoch 34/35\n",
            "24/24 [==============================] - 6s 247ms/step - loss: 0.0073 - accuracy: 0.9986 - val_loss: 0.0681 - val_accuracy: 0.9750\n",
            "Epoch 35/35\n",
            "24/24 [==============================] - 6s 240ms/step - loss: 0.0061 - accuracy: 0.9973 - val_loss: 0.0908 - val_accuracy: 0.9625\n"
          ]
        }
      ],
      "source": [
        "# Train the model on the training data and validate on validation data\n",
        "history = model_final.fit(\n",
        "    train_generator,  # Augmented training images\n",
        "    steps_per_epoch=nb_train_sample//batch_size,  # Steps per epoch\n",
        "    validation_steps=nb_validation_sample//batch_size,  # Validation steps\n",
        "    epochs=epochs,  # Number of training epochs\n",
        "    validation_data=validation_generator  # Validation data generator\n",
        ")\n"
      ]
    },
    {
      "cell_type": "code",
      "execution_count": 9,
      "metadata": {
        "colab": {
          "base_uri": "https://localhost:8080/"
        },
        "id": "7iSlRHCqt3Mw",
        "outputId": "fd73b76f-d9b9-47c0-94be-3e419c81e418"
      },
      "outputs": [
        {
          "data": {
            "text/plain": [
              "{'loss': [0.8719172477722168,\n",
              "  0.4436362087726593,\n",
              "  0.22545576095581055,\n",
              "  0.14823178946971893,\n",
              "  0.1280904859304428,\n",
              "  0.09459283947944641,\n",
              "  0.07388634234666824,\n",
              "  0.0645289272069931,\n",
              "  0.04830988869071007,\n",
              "  0.04120911657810211,\n",
              "  0.03643537685275078,\n",
              "  0.05017921328544617,\n",
              "  0.051143523305654526,\n",
              "  0.027994345873594284,\n",
              "  0.017354020848870277,\n",
              "  0.02663205936551094,\n",
              "  0.024206314235925674,\n",
              "  0.04524252191185951,\n",
              "  0.02342510223388672,\n",
              "  0.01800677925348282,\n",
              "  0.02139924466609955,\n",
              "  0.014236089773476124,\n",
              "  0.009501698426902294,\n",
              "  0.015607092529535294,\n",
              "  0.012561830691993237,\n",
              "  0.006306507159024477,\n",
              "  0.008115442469716072,\n",
              "  0.009977546520531178,\n",
              "  0.007053868845105171,\n",
              "  0.007832407020032406,\n",
              "  0.0033750939182937145,\n",
              "  0.005956723820418119,\n",
              "  0.009387747384607792,\n",
              "  0.007289097178727388,\n",
              "  0.00605364702641964],\n",
              " 'accuracy': [0.5716215968132019,\n",
              "  0.8689188957214355,\n",
              "  0.929729700088501,\n",
              "  0.9486486315727234,\n",
              "  0.9621621370315552,\n",
              "  0.9770269989967346,\n",
              "  0.9824324250221252,\n",
              "  0.9797297120094299,\n",
              "  0.9878378510475159,\n",
              "  0.9851351380348206,\n",
              "  0.9905405640602112,\n",
              "  0.9837837815284729,\n",
              "  0.9797297120094299,\n",
              "  0.9945945739746094,\n",
              "  0.9972972869873047,\n",
              "  0.9905405640602112,\n",
              "  0.9918919205665588,\n",
              "  0.984375,\n",
              "  0.9918919205665588,\n",
              "  0.995945930480957,\n",
              "  0.9918919205665588,\n",
              "  0.9972972869873047,\n",
              "  0.9986486434936523,\n",
              "  0.9945945739746094,\n",
              "  0.9986486434936523,\n",
              "  1.0,\n",
              "  0.9972972869873047,\n",
              "  0.995945930480957,\n",
              "  1.0,\n",
              "  1.0,\n",
              "  1.0,\n",
              "  0.9986486434936523,\n",
              "  0.995945930480957,\n",
              "  0.9986486434936523,\n",
              "  0.9972972869873047],\n",
              " 'val_loss': [0.7829250693321228,\n",
              "  0.4193216860294342,\n",
              "  0.32644590735435486,\n",
              "  0.3025824725627899,\n",
              "  0.2515731453895569,\n",
              "  0.22135290503501892,\n",
              "  0.1741182655096054,\n",
              "  0.16051429510116577,\n",
              "  0.28504520654678345,\n",
              "  0.11445285379886627,\n",
              "  0.10626526176929474,\n",
              "  0.2998742461204529,\n",
              "  0.21643921732902527,\n",
              "  0.1793798953294754,\n",
              "  0.07717423141002655,\n",
              "  0.1252295970916748,\n",
              "  0.163568377494812,\n",
              "  0.15948040783405304,\n",
              "  0.13632819056510925,\n",
              "  0.11422405391931534,\n",
              "  0.1642305701971054,\n",
              "  0.14848355948925018,\n",
              "  0.0840277373790741,\n",
              "  0.05253135412931442,\n",
              "  0.09613597393035889,\n",
              "  0.17025066912174225,\n",
              "  0.10268893092870712,\n",
              "  0.1662338674068451,\n",
              "  0.07572303712368011,\n",
              "  0.11532537639141083,\n",
              "  0.16289052367210388,\n",
              "  0.0706833004951477,\n",
              "  0.04466186836361885,\n",
              "  0.0680958479642868,\n",
              "  0.09079054743051529],\n",
              " 'val_accuracy': [0.7562500238418579,\n",
              "  0.8374999761581421,\n",
              "  0.8687499761581421,\n",
              "  0.8999999761581421,\n",
              "  0.8999999761581421,\n",
              "  0.8999999761581421,\n",
              "  0.925000011920929,\n",
              "  0.925000011920929,\n",
              "  0.9125000238418579,\n",
              "  0.949999988079071,\n",
              "  0.949999988079071,\n",
              "  0.9125000238418579,\n",
              "  0.925000011920929,\n",
              "  0.925000011920929,\n",
              "  0.9624999761581421,\n",
              "  0.949999988079071,\n",
              "  0.9375,\n",
              "  0.925000011920929,\n",
              "  0.9437500238418579,\n",
              "  0.949999988079071,\n",
              "  0.9437500238418579,\n",
              "  0.949999988079071,\n",
              "  0.96875,\n",
              "  0.9750000238418579,\n",
              "  0.956250011920929,\n",
              "  0.9437500238418579,\n",
              "  0.956250011920929,\n",
              "  0.9375,\n",
              "  0.9750000238418579,\n",
              "  0.9437500238418579,\n",
              "  0.9437500238418579,\n",
              "  0.9624999761581421,\n",
              "  0.987500011920929,\n",
              "  0.9750000238418579,\n",
              "  0.9624999761581421]}"
            ]
          },
          "execution_count": 9,
          "metadata": {},
          "output_type": "execute_result"
        }
      ],
      "source": [
        "# Display the training history object which contains loss and accuracy for each epoch\n",
        "history.history\n"
      ]
    },
    {
      "cell_type": "code",
      "execution_count": 10,
      "metadata": {
        "colab": {
          "base_uri": "https://localhost:8080/"
        },
        "id": "gNlo3dJQt4Mp",
        "outputId": "318a4c85-e3be-49c0-d926-0441229a9860"
      },
      "outputs": [
        {
          "data": {
            "image/png": "[encoded data removed]",
            "text/plain": [
              "<Figure size 640x480 with 1 Axes>"
            ]
          },
          "metadata": {},
          "output_type": "display_data"
        }
      ],
      "source": [
        "# Plot the training and validation accuracy over epochs\n",
        "import matplotlib.pyplot as plt\n",
        "\n",
        "plt.plot(history.history['accuracy'])  # Training accuracy\n",
        "plt.plot(history.history['val_accuracy'])  # Validation accuracy\n",
        "plt.title('model_accuracy')  # Chart title\n",
        "plt.ylabel('accuracy')  # Y-axis label\n",
        "plt.xlabel('epochs')  # X-axis label\n",
        "plt.legend(['train', 'test'], loc='upper left')  # Legend\n",
        "plt.show()  # Display plot\n"
      ]
    },
    {
      "cell_type": "code",
      "execution_count": 11,
      "metadata": {
        "colab": {
          "base_uri": "https://localhost:8080/",
          "height": 472
        },
        "id": "68YVrIZnt5U5",
        "outputId": "88f48594-d31a-4791-cfd2-beea8055897e"
      },
      "outputs": [
        {
          "data": {
            "image/png": "[encoded data removed]",
            "text/plain": [
              "<Figure size 640x480 with 1 Axes>"
            ]
          },
          "metadata": {},
          "output_type": "display_data"
        }
      ],
      "source": [
        "# Plot the training and validation loss over epochs\n",
        "import matplotlib.pyplot as plt\n",
        "\n",
        "plt.plot(history.history['loss'])  # Training loss\n",
        "plt.plot(history.history['val_loss'])  # Validation loss\n",
        "plt.title('model_loss')  # Chart title\n",
        "plt.ylabel('loss')  # Y-axis label\n",
        "plt.xlabel('epochs')  # X-axis label\n",
        "plt.legend(['train', 'test'], loc='upper left')  # Legend\n",
        "plt.show()  # Display plot\n"
      ]
    },
    {
      "cell_type": "code",
      "execution_count": 12,
      "metadata": {
        "colab": {
          "base_uri": "https://localhost:8080/"
        },
        "id": "5tnqhA8rt6Z3",
        "outputId": "d6e55b3d-533d-46c3-b7f4-9d1ae4ee2c05"
      },
      "outputs": [],
      "source": [
        "# Save the trained model in HDF5 format to disk\n",
        "model_final.save('model_final.h5')\n"
      ]
    },
    {
      "cell_type": "code",
      "execution_count": 13,
      "metadata": {
        "id": "pxoH7jh9t7UO"
      },
      "outputs": [],
      "source": [
        "# Create a dictionary that maps class indices to human-readable labels\n",
        "class_dictionary = {}\n",
        "class_dictionary[0] = 'no_car'  # Class index 0\n",
        "class_dictionary[1] = 'car'  # Class index 1\n",
        "class_dictionary[2] = 'wrong_parking'  # Class index 2\n"
      ]
    },
    {
      "cell_type": "code",
      "execution_count": 14,
      "metadata": {
        "colab": {
          "base_uri": "https://localhost:8080/"
        },
        "id": "__oayIhdt8bH",
        "outputId": "1852f8e4-5740-452f-8a0a-51c767dc8c04"
      },
      "outputs": [
        {
          "data": {
            "text/plain": [
              "{0: 'no_car', 1: 'car', 2: 'wrong_parking'}"
            ]
          },
          "execution_count": 14,
          "metadata": {},
          "output_type": "execute_result"
        }
      ],
      "source": [
        "# Print the class label dictionary\n",
        "class_dictionary\n"
      ]
    },
    {
      "cell_type": "code",
      "execution_count": 15,
      "metadata": {
        "id": "OYaRvuzSuCge"
      },
      "outputs": [],
      "source": [
        "# Save the trained model again (may be redundant but ensures persistence)\n",
        "model_final.save(\"model_final.h5\")\n"
      ]
    }
  ],
  "metadata": {
    "accelerator": "GPU",
    "colab": {
      "gpuType": "T4",
      "provenance": []
    },
    "kernelspec": {
      "display_name": "fineTuning-env",
      "language": "python",
      "name": "python3"
    },
    "language_info": {
      "codemirror_mode": {
        "name": "ipython",
        "version": 3
      },
      "file_extension": ".py",
      "mimetype": "text/x-python",
      "name": "python",
      "nbconvert_exporter": "python",
      "pygments_lexer": "ipython3",
      "version": "3.10.16"
    }
  },
  "nbformat": 4,
  "nbformat_minor": 0
}
