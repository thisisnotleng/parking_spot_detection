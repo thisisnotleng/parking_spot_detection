{
 "cells": [
  {
   "cell_type": "code",
   "execution_count": null,
   "metadata": {},
   "outputs": [
    {
     "name": "stdout",
     "output_type": "stream",
     "text": [
      "Image augmentation complete!\n"
     ]
    }
   ],
   "source": [
    "import os\n",
    "import cv2\n",
    "\n",
    "def augment_images(input_folder, output_folder):\n",
    "    \"\"\"\n",
    "    Augments images in the input folder with rotations and flips.\n",
    "\n",
    "    Args:\n",
    "        input_folder (str): Path to the folder containing the input images.\n",
    "        output_folder (str): Path to the folder to save the augmented images.\n",
    "    \"\"\"\n",
    "\n",
    "    if not os.path.exists(output_folder):\n",
    "        os.makedirs(output_folder)\n",
    "\n",
    "    for filename in os.listdir(input_folder):\n",
    "        if filename.lower().endswith(('.png', '.jpg', '.jpeg')):  # Check for valid image file extensions\n",
    "            image_path = os.path.join(input_folder, filename)\n",
    "            image = cv2.imread(image_path)\n",
    "\n",
    "            if image is None:\n",
    "                print(f\"Error reading image: {image_path}\")\n",
    "                continue\n",
    "\n",
    "            # Rotations\n",
    "            rotated_images = [\n",
    "                image,\n",
    "                cv2.rotate(image, cv2.ROTATE_180),\n",
    "            ]\n",
    "\n",
    "            rotation_names = [\"original\", \"rot_180\"]\n",
    "\n",
    "            for i, rotated_image in enumerate(rotated_images):\n",
    "\n",
    "                # Flip\n",
    "                flipped_image = cv2.flip(rotated_image, 1)  # Horizontal flip\n",
    "                flipped_names = [\"\", \"flip\"]\n",
    "\n",
    "                images_to_save = [rotated_image, flipped_image]\n",
    "\n",
    "                for j, image_to_save in enumerate(images_to_save):\n",
    "                    augmented_image_name = f\"{os.path.splitext(filename)[0]}_{rotation_names[i]}_{flipped_names[j]}.jpg\"\n",
    "                    cv2.imwrite(os.path.join(output_folder, augmented_image_name), image_to_save)\n",
    "\n",
    "# Input and output folder paths\n",
    "input_folder = 'data/input'\n",
    "output_folder = 'dataset/train/wrong_parking'\n",
    "\n",
    "augment_images(input_folder, output_folder)\n",
    "\n",
    "print(\"Image augmentation complete!\")\n"
   ]
  }
 ],
 "metadata": {
  "kernelspec": {
   "display_name": "fineTuning-env",
   "language": "python",
   "name": "python3"
  },
  "language_info": {
   "codemirror_mode": {
    "name": "ipython",
    "version": 3
   },
   "file_extension": ".py",
   "mimetype": "text/x-python",
   "name": "python",
   "nbconvert_exporter": "python",
   "pygments_lexer": "ipython3",
   "version": "3.10.16"
  }
 },
 "nbformat": 4,
 "nbformat_minor": 2
}
